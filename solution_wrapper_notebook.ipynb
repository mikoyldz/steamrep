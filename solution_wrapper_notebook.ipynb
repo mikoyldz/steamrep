{
 "cells": [
  {
   "cell_type": "code",
   "execution_count": 1,
   "metadata": {},
   "outputs": [],
   "source": [
    "from DataHandler.DataHandler import DataHandler\n",
    "from DataHandler.ModelPreparator import ModelPreparator\n",
    "from model.ModelHandler import BertHandler"
   ]
  },
  {
   "cell_type": "code",
   "execution_count": 2,
   "metadata": {},
   "outputs": [],
   "source": [
    "datahandler=DataHandler()"
   ]
  },
  {
   "cell_type": "code",
   "execution_count": 3,
   "metadata": {},
   "outputs": [
    {
     "name": "stderr",
     "output_type": "stream",
     "text": [
      "<>:1: SyntaxWarning: invalid escape sequence '\\s'\n",
      "<>:1: SyntaxWarning: invalid escape sequence '\\s'\n",
      "C:\\Users\\rapid\\AppData\\Local\\Temp\\ipykernel_13664\\3046307167.py:1: SyntaxWarning: invalid escape sequence '\\s'\n",
      "  df = datahandler.read_data(\"data\\steam_reviews.parquet\")\n"
     ]
    }
   ],
   "source": [
    "df = datahandler.read_data(\"data\\steam_reviews.parquet\")"
   ]
  },
  {
   "cell_type": "code",
   "execution_count": 4,
   "metadata": {},
   "outputs": [
    {
     "name": "stderr",
     "output_type": "stream",
     "text": [
      "e:\\Uni\\Master\\3. Semester\\NLP\\Project\\steamrep\\DataHandler\\DataHandler.py:42: SettingWithCopyWarning: \n",
      "A value is trying to be set on a copy of a slice from a DataFrame.\n",
      "Try using .loc[row_indexer,col_indexer] = value instead\n",
      "\n",
      "See the caveats in the documentation: https://pandas.pydata.org/pandas-docs/stable/user_guide/indexing.html#returning-a-view-versus-a-copy\n",
      "  df_filtered['cleaned_review'] = df_filtered['review'].apply(lambda x: re.sub(r'<.*?>', '', x) if isinstance(x, str) else '')\n",
      "e:\\Uni\\Master\\3. Semester\\NLP\\Project\\steamrep\\DataHandler\\DataHandler.py:43: SettingWithCopyWarning: \n",
      "A value is trying to be set on a copy of a slice from a DataFrame.\n",
      "Try using .loc[row_indexer,col_indexer] = value instead\n",
      "\n",
      "See the caveats in the documentation: https://pandas.pydata.org/pandas-docs/stable/user_guide/indexing.html#returning-a-view-versus-a-copy\n",
      "  df_filtered['cleaned_review'] = df_filtered['cleaned_review'].str.lower()\n"
     ]
    }
   ],
   "source": [
    "df = datahandler.preprocess_data(df=df)\n",
    "df = datahandler.choose_dataset_size(df=df, row_number=500)"
   ]
  },
  {
   "cell_type": "code",
   "execution_count": 5,
   "metadata": {},
   "outputs": [],
   "source": [
    "modelpreparator = ModelPreparator()"
   ]
  },
  {
   "cell_type": "code",
   "execution_count": 6,
   "metadata": {},
   "outputs": [
    {
     "name": "stderr",
     "output_type": "stream",
     "text": [
      "Processing reviews:   0%|          | 0/32 [00:00<?, ?it/s]C:\\Users\\rapid\\AppData\\Roaming\\Python\\Python312\\site-packages\\transformers\\models\\bert\\modeling_bert.py:435: UserWarning: 1Torch was not compiled with flash attention. (Triggered internally at C:\\actions-runner\\_work\\pytorch\\pytorch\\builder\\windows\\pytorch\\aten\\src\\ATen\\native\\transformers\\cuda\\sdp_utils.cpp:545.)\n",
      "  attn_output = torch.nn.functional.scaled_dot_product_attention(\n",
      "Processing reviews: 100%|██████████| 32/32 [00:06<00:00,  4.88it/s]\n"
     ]
    }
   ],
   "source": [
    "df = modelpreparator.add_sarcasm_score_to_review(df=df, batch_size=16)"
   ]
  },
  {
   "cell_type": "code",
   "execution_count": null,
   "metadata": {},
   "outputs": [],
   "source": [
    "cols_mapping = {\"tokenized\": \"cleaned_review\",\n",
    "                \"tokenized_sarcasm\": \"cleaned_review_sarcasm\"}\n",
    "# brauchen wir prepare_for_bert überhaupt?\n",
    "df = modelpreparator.prepare_for_bert(df=df, cols_mapping=cols_mapping)\n",
    "train_df, val_df = modelpreparator.make_train_test_split(df=df)"
   ]
  },
  {
   "cell_type": "code",
   "execution_count": null,
   "metadata": {},
   "outputs": [],
   "source": [
    "review_columns = ['cleaned_review', 'cleaned_review_sarcasm']\n",
    "bert_handler = BertHandler(train_df, val_df, review_columns)\n",
    "bert_handler.train(epochs=3)"
   ]
  }
 ],
 "metadata": {
  "kernelspec": {
   "display_name": "Python 3",
   "language": "python",
   "name": "python3"
  },
  "language_info": {
   "codemirror_mode": {
    "name": "ipython",
    "version": 3
   },
   "file_extension": ".py",
   "mimetype": "text/x-python",
   "name": "python",
   "nbconvert_exporter": "python",
   "pygments_lexer": "ipython3",
   "version": "3.12.1"
  }
 },
 "nbformat": 4,
 "nbformat_minor": 2
}
