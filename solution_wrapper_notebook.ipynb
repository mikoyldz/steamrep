{
 "cells": [
  {
   "cell_type": "markdown",
   "metadata": {},
   "source": [
    "## Import necessary modules"
   ]
  },
  {
   "cell_type": "code",
   "execution_count": 1,
   "metadata": {},
   "outputs": [],
   "source": [
    "from DataHandler.DataHandler import DataHandler\n",
    "from DataHandler.ModelPreparator import ModelPreparator\n",
    "from model.ModelHandler import Bert_Trainer_Evaluator"
   ]
  },
  {
   "cell_type": "markdown",
   "metadata": {},
   "source": [
    "### Initialize DataHandler"
   ]
  },
  {
   "cell_type": "code",
   "execution_count": 2,
   "metadata": {},
   "outputs": [],
   "source": [
    "datahandler=DataHandler()"
   ]
  },
  {
   "cell_type": "markdown",
   "metadata": {},
   "source": [
    "### Read the input file"
   ]
  },
  {
   "cell_type": "code",
   "execution_count": 3,
   "metadata": {},
   "outputs": [
    {
     "name": "stderr",
     "output_type": "stream",
     "text": [
      "<>:1: SyntaxWarning: invalid escape sequence '\\s'\n",
      "<>:1: SyntaxWarning: invalid escape sequence '\\s'\n",
      "C:\\Users\\rapid\\AppData\\Local\\Temp\\ipykernel_28960\\3046307167.py:1: SyntaxWarning: invalid escape sequence '\\s'\n",
      "  df = datahandler.read_data(\"data\\steam_reviews.parquet\")\n"
     ]
    }
   ],
   "source": [
    "df = datahandler.read_data(\"data\\steam_reviews.parquet\")"
   ]
  },
  {
   "cell_type": "markdown",
   "metadata": {},
   "source": [
    "### Preprocess the input data and choose the dataset size"
   ]
  },
  {
   "cell_type": "code",
   "execution_count": 4,
   "metadata": {},
   "outputs": [
    {
     "name": "stderr",
     "output_type": "stream",
     "text": [
      "e:\\Uni\\Master\\3. Semester\\NLP\\Project\\steamrep\\DataHandler\\DataHandler.py:42: SettingWithCopyWarning: \n",
      "A value is trying to be set on a copy of a slice from a DataFrame.\n",
      "Try using .loc[row_indexer,col_indexer] = value instead\n",
      "\n",
      "See the caveats in the documentation: https://pandas.pydata.org/pandas-docs/stable/user_guide/indexing.html#returning-a-view-versus-a-copy\n",
      "  df_filtered['cleaned_review'] = df_filtered['review'].apply(\n",
      "e:\\Uni\\Master\\3. Semester\\NLP\\Project\\steamrep\\DataHandler\\DataHandler.py:45: SettingWithCopyWarning: \n",
      "A value is trying to be set on a copy of a slice from a DataFrame.\n",
      "Try using .loc[row_indexer,col_indexer] = value instead\n",
      "\n",
      "See the caveats in the documentation: https://pandas.pydata.org/pandas-docs/stable/user_guide/indexing.html#returning-a-view-versus-a-copy\n",
      "  df_filtered['cleaned_review'] = df_filtered['cleaned_review'].str.lower()\n"
     ]
    }
   ],
   "source": [
    "df = datahandler.preprocess_data(df=df)\n",
    "df = datahandler.choose_dataset_size(df=df, row_number=500)"
   ]
  },
  {
   "cell_type": "markdown",
   "metadata": {},
   "source": [
    "### Initialize the ModelPreparator"
   ]
  },
  {
   "cell_type": "code",
   "execution_count": 5,
   "metadata": {},
   "outputs": [],
   "source": [
    "modelpreparator = ModelPreparator()"
   ]
  },
  {
   "cell_type": "markdown",
   "metadata": {},
   "source": [
    "### Add the column with sarcasm analysis"
   ]
  },
  {
   "cell_type": "code",
   "execution_count": 6,
   "metadata": {},
   "outputs": [
    {
     "name": "stderr",
     "output_type": "stream",
     "text": [
      "Processing reviews:   0%|          | 0/32 [00:00<?, ?it/s]C:\\Users\\rapid\\AppData\\Roaming\\Python\\Python312\\site-packages\\transformers\\models\\bert\\modeling_bert.py:435: UserWarning: 1Torch was not compiled with flash attention. (Triggered internally at C:\\actions-runner\\_work\\pytorch\\pytorch\\builder\\windows\\pytorch\\aten\\src\\ATen\\native\\transformers\\cuda\\sdp_utils.cpp:545.)\n",
      "  attn_output = torch.nn.functional.scaled_dot_product_attention(\n",
      "Processing reviews: 100%|██████████| 32/32 [00:07<00:00,  4.51it/s]\n"
     ]
    }
   ],
   "source": [
    "df = modelpreparator.add_sarcasm_score_to_review(df=df, batch_size=16)"
   ]
  },
  {
   "cell_type": "markdown",
   "metadata": {},
   "source": [
    "### Make a train test split and tokenize for both columns"
   ]
  },
  {
   "cell_type": "code",
   "execution_count": 7,
   "metadata": {},
   "outputs": [
    {
     "name": "stdout",
     "output_type": "stream",
     "text": [
      "Training Set: 400 Reviews\n",
      "Validation Set: 100 Reviews\n"
     ]
    }
   ],
   "source": [
    "cols_mapping = {\"tokenized\": \"cleaned_review\",\n",
    "                \"tokenized_sarcasm\": \"cleaned_review_sarcasm\"}\n",
    "# brauchen wir prepare_for_bert überhaupt?\n",
    "df = modelpreparator.prepare_for_bert(df=df, cols_mapping=cols_mapping)\n",
    "train_df, val_df = modelpreparator.make_train_test_split(df=df)"
   ]
  },
  {
   "cell_type": "markdown",
   "metadata": {},
   "source": [
    "### Train Bert for both columns (i.e. with and without sarcasm score) and compare results. "
   ]
  },
  {
   "cell_type": "code",
   "execution_count": 8,
   "metadata": {},
   "outputs": [
    {
     "name": "stdout",
     "output_type": "stream",
     "text": [
      "Using device: cuda\n"
     ]
    },
    {
     "name": "stderr",
     "output_type": "stream",
     "text": [
      "Some weights of DistilBertForSequenceClassification were not initialized from the model checkpoint at distilbert-base-uncased and are newly initialized: ['classifier.bias', 'classifier.weight', 'pre_classifier.bias', 'pre_classifier.weight']\n",
      "You should probably TRAIN this model on a down-stream task to be able to use it for predictions and inference.\n",
      "Some weights of DistilBertForSequenceClassification were not initialized from the model checkpoint at distilbert-base-uncased and are newly initialized: ['classifier.bias', 'classifier.weight', 'pre_classifier.bias', 'pre_classifier.weight']\n",
      "You should probably TRAIN this model on a down-stream task to be able to use it for predictions and inference.\n",
      "C:\\Users\\rapid\\AppData\\Roaming\\Python\\Python312\\site-packages\\transformers\\optimization.py:588: FutureWarning: This implementation of AdamW is deprecated and will be removed in a future version. Use the PyTorch implementation torch.optim.AdamW instead, or set `no_deprecation_warning=True` to disable this warning\n",
      "  warnings.warn(\n",
      "Tokenizing cleaned_review: 100%|██████████| 400/400 [00:00<00:00, 1079.49it/s]\n",
      "Tokenizing cleaned_review_sarcasm: 100%|██████████| 400/400 [00:00<00:00, 941.43it/s] \n",
      "Tokenizing cleaned_review: 100%|██████████| 100/100 [00:00<00:00, 786.86it/s]\n",
      "Tokenizing cleaned_review_sarcasm: 100%|██████████| 100/100 [00:00<00:00, 739.94it/s]\n"
     ]
    },
    {
     "name": "stdout",
     "output_type": "stream",
     "text": [
      "Training for column: cleaned_review\n",
      "Epoch 1/3 for cleaned_review\n"
     ]
    },
    {
     "name": "stderr",
     "output_type": "stream",
     "text": [
      "Training cleaned_review: 100%|██████████| 25/25 [00:53<00:00,  2.14s/it]\n"
     ]
    },
    {
     "name": "stdout",
     "output_type": "stream",
     "text": [
      "Average training loss for cleaned_review: 0.48222267627716064\n",
      "Epoch 2/3 for cleaned_review\n"
     ]
    },
    {
     "name": "stderr",
     "output_type": "stream",
     "text": [
      "Training cleaned_review: 100%|██████████| 25/25 [01:04<00:00,  2.57s/it]\n"
     ]
    },
    {
     "name": "stdout",
     "output_type": "stream",
     "text": [
      "Average training loss for cleaned_review: 0.37826153814792635\n",
      "Epoch 3/3 for cleaned_review\n"
     ]
    },
    {
     "name": "stderr",
     "output_type": "stream",
     "text": [
      "Training cleaned_review: 100%|██████████| 25/25 [01:03<00:00,  2.55s/it]\n"
     ]
    },
    {
     "name": "stdout",
     "output_type": "stream",
     "text": [
      "Average training loss for cleaned_review: 0.27679787039756776\n"
     ]
    },
    {
     "name": "stderr",
     "output_type": "stream",
     "text": [
      "Validating cleaned_review: 100%|██████████| 7/7 [00:08<00:00,  1.19s/it]\n"
     ]
    },
    {
     "name": "stdout",
     "output_type": "stream",
     "text": [
      "\n",
      "Validation Metrics for cleaned_review:\n",
      "  Accuracy: 0.8800\n",
      "  Precision: 0.8763\n",
      "  Recall: 1.0000\n",
      "  F1-Score: 0.9341\n",
      "  Confusion Matrix:\n",
      "[[ 3 12]\n",
      " [ 0 85]]\n",
      "  Validation Loss: 0.3055\n",
      "Training for column: cleaned_review_sarcasm\n",
      "Epoch 1/3 for cleaned_review_sarcasm\n"
     ]
    },
    {
     "name": "stderr",
     "output_type": "stream",
     "text": [
      "Training cleaned_review_sarcasm: 100%|██████████| 25/25 [01:41<00:00,  4.08s/it]\n"
     ]
    },
    {
     "name": "stdout",
     "output_type": "stream",
     "text": [
      "Average training loss for cleaned_review_sarcasm: 0.5051043260097504\n",
      "Epoch 2/3 for cleaned_review_sarcasm\n"
     ]
    },
    {
     "name": "stderr",
     "output_type": "stream",
     "text": [
      "Training cleaned_review_sarcasm: 100%|██████████| 25/25 [01:52<00:00,  4.48s/it]\n"
     ]
    },
    {
     "name": "stdout",
     "output_type": "stream",
     "text": [
      "Average training loss for cleaned_review_sarcasm: 0.40324351787567136\n",
      "Epoch 3/3 for cleaned_review_sarcasm\n"
     ]
    },
    {
     "name": "stderr",
     "output_type": "stream",
     "text": [
      "Training cleaned_review_sarcasm: 100%|██████████| 25/25 [01:58<00:00,  4.75s/it]\n"
     ]
    },
    {
     "name": "stdout",
     "output_type": "stream",
     "text": [
      "Average training loss for cleaned_review_sarcasm: 0.3360268670320511\n"
     ]
    },
    {
     "name": "stderr",
     "output_type": "stream",
     "text": [
      "Validating cleaned_review_sarcasm: 100%|██████████| 7/7 [00:02<00:00,  2.98it/s]"
     ]
    },
    {
     "name": "stdout",
     "output_type": "stream",
     "text": [
      "\n",
      "Validation Metrics for cleaned_review_sarcasm:\n",
      "  Accuracy: 0.8800\n",
      "  Precision: 0.9294\n",
      "  Recall: 0.9294\n",
      "  F1-Score: 0.9294\n",
      "  Confusion Matrix:\n",
      "[[ 9  6]\n",
      " [ 6 79]]\n",
      "  Validation Loss: 0.2827\n",
      "\n",
      "Comparison of Performance Metrics:\n",
      "Column: cleaned_review\n",
      "  Accuracy: 0.8800\n",
      "  Precision: 0.8763\n",
      "  Recall: 1.0000\n",
      "  F1-Score: 0.9341\n",
      "  Validation Loss: 0.3055\n",
      "  Confusion Matrix:\n",
      "[[ 3 12]\n",
      " [ 0 85]]\n",
      "\n",
      "Column: cleaned_review_sarcasm\n",
      "  Accuracy: 0.8800\n",
      "  Precision: 0.9294\n",
      "  Recall: 0.9294\n",
      "  F1-Score: 0.9294\n",
      "  Validation Loss: 0.2827\n",
      "  Confusion Matrix:\n",
      "[[ 9  6]\n",
      " [ 6 79]]\n",
      "\n"
     ]
    },
    {
     "name": "stderr",
     "output_type": "stream",
     "text": [
      "\n"
     ]
    }
   ],
   "source": [
    "review_columns = ['cleaned_review', 'cleaned_review_sarcasm']\n",
    "bert_handler = Bert_Trainer_Evaluator(train_df, val_df, review_columns)\n",
    "bert_handler.train(epochs=3)"
   ]
  }
 ],
 "metadata": {
  "kernelspec": {
   "display_name": "Python 3",
   "language": "python",
   "name": "python3"
  },
  "language_info": {
   "codemirror_mode": {
    "name": "ipython",
    "version": 3
   },
   "file_extension": ".py",
   "mimetype": "text/x-python",
   "name": "python",
   "nbconvert_exporter": "python",
   "pygments_lexer": "ipython3",
   "version": "3.12.1"
  }
 },
 "nbformat": 4,
 "nbformat_minor": 2
}
