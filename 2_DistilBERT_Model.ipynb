{
 "cells": [
  {
   "cell_type": "markdown",
   "metadata": {},
   "source": [
    "# Steam Sentiment Analysis Projekt - Training des DistilBERT Modells\n",
    "\n",
    "## Einführung\n",
    "\n",
    "In diesem Abschnitt konzentrieren wir uns auf das **Training eines DistilBERT-Modells**, um Steam Reviews zu klassifizieren. Unser Ziel ist es, eine binäre Klassifizierung durchzuführen, bei der wir vorhersagen, ob ein Spiel auf Basis der Nutzerrezension empfohlen wird oder nicht.\n",
    "\n",
    "### Iteratives Vorgehen beim Training\n",
    "\n",
    "Das Training des DistilBERT-Modells erfolgt in mehreren Iterationen, wobei wir unterschiedliche Datenkonfigurationen verwenden. Wir starten mit einer kleinen Datenmenge von **1.000 Beobachtungen** und steigern die Anzahl auf **10.000 Beobachtungen**, um zu sehen, wie sich die Ergebnisse skalieren. Wir analysieren die Performance des Modells unter verschiedenen Bedingungen und Informationen, die wir den Reviews hinzufügen.\n",
    "\n",
    "---\n",
    "\n",
    "## Geplante Experimente\n",
    "\n",
    "Für jedes Experiment wird das DistilBERT-Modell mit unterschiedlichen Zusatzinformationen trainiert, die in den Text der Rezensionen integriert werden:\n",
    "\n",
    "1. **Nur Reviews**: Zunächst wird das Modell lediglich mit den Rohdaten der Reviews trainiert, um eine Basisleistung zu messen.\n",
    "2. **Reviews + Genre + Publisher + Spielname**: Im zweiten Schritt erweitern wir die Reviews um das Genre des Spiels und den Publisher. Diese Informationen könnten eine signifikante Auswirkung auf das Modell haben, da gewisse Publisher oder Genres möglicherweise einen Einfluss auf die Bewertungen haben.\n",
    "3. **Reviews + Emotionen**: Im dritten Experiment integrieren wir die von **GoEmotions** erkannten Emotionen als zusätzliche Merkmale. Emotionen wie „Frustration“, „Freude“ oder „Überraschung“ könnten helfen, die Intention hinter den Bewertungen besser zu erkennen.\n",
    "4. **Reviews + Genre + Publisher + Emotionen**: Schließlich kombinieren wir alle Informationen – das Genre, den Publisher und die Emotionen – um zu sehen, ob dies zu einer signifikanten Leistungssteigerung führt.\n",
    "\n",
    "---\n",
    "\n",
    "## Datenvorbereitung\n",
    "\n",
    "Die Datenvorbereitung orientiert sich an den folgenden Schritten:\n",
    "\n",
    "- **Datenanreicherung**: Zusätzliche Informationen wie das Genre, der Publisher und die Emotionen werden am Anfang jeder Review hinzugefügt. Dies könnte beispielsweise folgendermaßen aussehen:\n",
    "\n",
    "  _\"Genre: Action; Publisher: Valve; Emotion: Freude; Review: Dieses Spiel ist einfach fantastisch, ich liebe es!\"_\n",
    "\n",
    "---\n",
    "\n",
    "## Modellarchitektur und Trainingsprozess\n",
    "\n",
    "### DistilBERT-Modell\n",
    "\n",
    "Wir verwenden das **DistilBERT-Modell** für die Textklassifikation, da es im Vergleich zu BERT eine schnellere Verarbeitung bei ähnlicher Genauigkeit ermöglicht. Hier einige Details zum Training:\n",
    "\n",
    "- **Tokenisierung**: Die Rezensionen werden mit dem DistilBERT-Tokenizer in Tokens umgewandelt, wobei die maximale Textlänge auf 512 Tokens beschränkt ist. Kürzere Texte werden gepolstert, und längere Texte werden abgeschnitten.\n",
    "  \n",
    "- **Trainingsmethode**: Wir verwenden den Optimierer **AdamW** mit einer Cross-Entropy-Loss-Funktion für die binäre Klassifikation (empfohlen vs. nicht empfohlen). Das Modell wird über **3 Epochen** trainiert.\n",
    "\n",
    "- **Trainingsdaten**: Die Daten werden im Verhältnis 80/20 in Trainings- und Validierungsset aufgeteilt. Eine **stratifizierte Aufteilung** stellt sicher, dass die Verteilung der Labels (empfohlen/nicht empfohlen) in beiden Sätzen gleich ist.\n",
    "\n",
    "### Iterative Tests\n",
    "\n",
    "1. **Erster Test – 1.000 Beobachtungen**: Zuerst wird das Modell mit 1.000 Beobachtungen trainiert, um eine erste Einschätzung der Leistung zu erhalten.\n",
    "2. **Zweiter Test – 10.000 Beobachtungen**: Im nächsten Schritt wird die Anzahl der Beobachtungen auf 10.000 erhöht, um zu testen, wie sich das Modell skaliert.\n",
    "\n",
    "---\n",
    "\n",
    "## Evaluation\n",
    "\n",
    "Nach jedem Training bewerten wir das Modell anhand der folgenden Metriken:\n",
    "\n",
    "- **Accuracy**: Wie genau sind die Vorhersagen des Modells?\n",
    "- **Precision & Recall**: Diese Metriken geben an, wie gut das Modell zwischen empfohlenen und nicht empfohlenen Spielen unterscheidet.\n",
    "- **F1-Score**: Das harmonische Mittel aus Precision und Recall, um ein Gleichgewicht zwischen beiden Metriken zu erreichen.\n",
    "\n",
    "Zusätzlich vergleichen wir die Modellleistung in jeder Iteration, um zu sehen, ob die Hinzufügung von Genre, Publisher und Emotionen zu einer Verbesserung der Ergebnisse führt.\n",
    "\n",
    "---\n",
    "\n",
    "## Fazit\n",
    "\n",
    "Durch das iterative Training des DistilBERT-Modells wollen wir herausfinden, ob die Einbeziehung von Metainformationen wie Genre, Publisher und Emotionen die Vorhersagegenauigkeit für die Klassifikation von Steam Reviews verbessert. Die gewonnenen Erkenntnisse werden uns helfen, zukünftige Verbesserungen in der Sentiment-Analyse von Gaming-Rezensionen vorzunehmen.\n",
    "\n",
    "---\n",
    "\n",
    "### Autoren\n",
    "\n",
    "Markus Grau, Daniel Kosma, Mikail Yildiz\n"
   ]
  },
  {
   "cell_type": "markdown",
   "metadata": {},
   "source": [
    "## Libraries"
   ]
  },
  {
   "cell_type": "code",
   "execution_count": 87,
   "metadata": {},
   "outputs": [],
   "source": [
    "import torch #torch\n",
    "from transformers import DistilBertTokenizer, DistilBertForSequenceClassification, AdamW #transformer libraries für das modell\n",
    "from torch.utils.data import DataLoader, TensorDataset #dataloader\n",
    "from torch.optim import AdamW  # Verwende die native PyTorch-Implementierung\n",
    "\n",
    "#misc\n",
    "from tqdm import tqdm\n",
    "import pandas as pd\n",
    "import numpy as np\n",
    "import ast\n",
    "\n",
    "#plotting\n",
    "import matplotlib.pyplot as plt\n",
    "import seaborn as sns\n",
    "\n",
    "#evaluationen\n",
    "from sklearn.metrics import classification_report, confusion_matrix\n",
    "from sklearn.model_selection import train_test_split \n"
   ]
  },
  {
   "cell_type": "markdown",
   "metadata": {},
   "source": [
    "## Funktionen und Settings\n",
    "Im folgenden Kapitel wird die Funktion beschrieben, die wir verwenden werden, um DistilBERT Modelle für eine Binärklassifikation zu trainieren.\n",
    "\n",
    "Dabei ist die grundfunktionalität für alle Experimente gleich, lediglich die Daten, die wir verwenden, werden angepasst werden.\n",
    "\n",
    "Im Folgenden werden die Funktionen beschrieben, die wir für das Training und die Evaluierung des DistilBERT-Modells verwenden:\n",
    "\n",
    "1. **split_data**: Diese Funktion teilt die Daten in Trainings- und Validierungssets auf. Dabei wird eine stratifizierte Aufteilung verwendet, um sicherzustellen, dass die Verteilung der Zielvariable in beiden Sets gleich ist.\n",
    "\n",
    "2. **tokenize_and_create_dataset**: Diese Funktion tokenisiert die Textdaten und erstellt TensorDatasets, die die Input-IDs, Attention-Masks und Labels für das Modell enthalten. Die Tokenisierung erfolgt mit dem DistilBERT-Tokenizer.\n",
    "\n",
    "3. **train_model**: Diese Funktion trainiert das DistilBERT-Modell. Der Trainingsprozess umfasst mehrere Epochen, in denen das Modell die Trainingsdaten verarbeitet und die Gewichte basierend auf dem berechneten Verlust aktualisiert.\n",
    "\n",
    "4. **evaluate_model**: Diese Funktion evaluiert das trainierte Modell anhand der Validierungsdaten. Sie berechnet die Vorhersagen des Modells und vergleicht sie mit den tatsächlichen Labels.\n",
    "\n",
    "5. **run_experiment**: Diese Funktion führt ein komplettes Experiment durch. Sie verwendet die oben genannten Funktionen, um die Daten zu splitten, zu tokenisieren, das Modell zu trainieren und zu evaluieren. Die Ergebnisse des Experiments werden in einem Dictionary gespeichert und zurückgegeben.\n",
    "\n",
    "Der Ablauf eines Experiments ist wie folgt:\n",
    "- Die Daten werden in Trainings- und Validierungssets aufgeteilt.\n",
    "- Die Textdaten werden tokenisiert und TensorDatasets erstellt.\n",
    "- DataLoader für das Training und die Validierung werden erstellt.\n",
    "- Das DistilBERT-Modell wird geladen und trainiert.\n",
    "- Das trainierte Modell wird evaluiert.\n",
    "- Die Ergebnisse des Experiments werden gespeichert und zurückgegeben."
   ]
  },
  {
   "cell_type": "code",
   "execution_count": 2,
   "metadata": {},
   "outputs": [],
   "source": [
    "# Funktion zur Datenaufteilung\n",
    "def split_data(df, target_column='recommended', test_size=0.2, random_state=42):\n",
    "    \"\"\"Zerteilen der Daten in Trainings- und Testdaten\n",
    "    Args:\n",
    "        df (PandasDataFrame): Die Pandas Dataframe die eingelesen wird\n",
    "        target_column (str, optional): Die Zielvariable auf der wir bei der Prediction abzielen. Defaults to 'recommended'.\n",
    "        test_size (float, optional): Testsize des Datasets. Defaults to 0.2.\n",
    "        random_state (int, optional): Zufälligkeitsfaktor. Defaults to 42.\n",
    "\n",
    "    Returns:\n",
    "        _type_: Der Return besteht aus 4 Dataframes, die in der Reihenfolge train_x, test_x, train_y, test_y sind.\n",
    "    \"\"\"\n",
    "    return train_test_split(df, test_size=test_size, stratify=df[target_column], random_state=random_state)"
   ]
  },
  {
   "cell_type": "code",
   "execution_count": 3,
   "metadata": {},
   "outputs": [],
   "source": [
    "# Funktion zur Tokenisierung und Erstellung von TensorDatasets fürs Trainign\n",
    "def tokenize_and_create_dataset(df, tokenizer, text_column='cleaned_review', target_column='recommended', max_length=512):\n",
    "    \"\"\"Eine Funktion, welches für die Tokenisierung und Erstellung von TensorDatasets fürs Training zuständig ist.\n",
    "\n",
    "    Args:\n",
    "        df (PandasDataframe): Die Pandas Dataframe die eingelesen wird\n",
    "        tokenizer (Transformer.DistilBertTokenizer): der distilbert tokenizer\n",
    "        text_column (str, optional): Der column welches die texte beinhaltet. Defaults zu 'cleaned_text'.\n",
    "        target_column (str, optional): Die Binärvariable, welches Predicted werden soll. Defaults zu 'recommended'.\n",
    "        max_length (int, optional): Die maximallänge der Tokens. Defaults to 512.\n",
    "\n",
    "    Returns:\n",
    "        torch.TensorDataset: Ein Tensordatensatz, welches die Input-IDs, Attention-Masks und Labels beinhaltet für das Modell.\n",
    "    \"\"\"\n",
    "    input_ids = [] # Liste für Input-IDs\n",
    "    attention_masks = [] # Liste für Attention-Masks\n",
    "    labels = [] # Liste für Labels\n",
    "\n",
    "    for index, row in tqdm(df.iterrows(), total=len(df), desc=\"Tokenisierung\"):\n",
    "        full_text = row[text_column]  # Verwende die vorab vorbereiteten Textdaten\n",
    "        \n",
    "        encoded = tokenizer.encode_plus(\n",
    "            full_text, #der text der beobachtet wird\n",
    "            add_special_tokens=True, #spezielle tokens hinzufügen (CLS, SEP) start und end token\n",
    "            max_length=max_length, #maximale länge des textes\n",
    "            padding='max_length',   #padding auf max_length\n",
    "            truncation=True,    #truncation auf max_length\n",
    "            return_attention_mask=True, #attention mask sind nötig für die verarbeitung\n",
    "            return_tensors='pt'\n",
    "        )\n",
    "\n",
    "        #ergebnisse erweitern\n",
    "        input_ids.append(encoded['input_ids']) \n",
    "        attention_masks.append(encoded['attention_mask'])\n",
    "        labels.append(int(row[target_column]))\n",
    "\n",
    "    # Erstelle ein TensorDataset\n",
    "    input_ids = torch.cat(input_ids, dim=0)\n",
    "    attention_masks = torch.cat(attention_masks, dim=0)\n",
    "    labels = torch.tensor(labels)\n",
    "\n",
    "    return TensorDataset(input_ids, attention_masks, labels)"
   ]
  },
  {
   "cell_type": "code",
   "execution_count": 4,
   "metadata": {},
   "outputs": [],
   "source": [
    "# Funktion zum Trainieren eines Modells\n",
    "def train_model(model, train_dataloader, optimizer, device, epochs=3):\n",
    "    \"\"\"Eine Funktion, welches für das Training des Modells zuständig ist. Basiert auf simple Neural Network Trainignsprozess.\n",
    "       Keine Verkomplizierung durch spezielle Trainingsprozesse.\n",
    "\n",
    "    Args:\n",
    "        model (transformer.DistilBertForSequenceClassification): Das DistilBert Modell für die Klassifikation\n",
    "        train_dataloader (torch.Dataloader): Der Dataloader, welches die Trainingsdaten beinhaltet\n",
    "        optimizer (torch.optimizer): Ein vorgegebener Optimizer für das Training\n",
    "        device (str): GPU oder CPU bestimmung\n",
    "        epochs (int, optional): Angabe der Epochen die Trainiert werden sollen. Defaults to 3.\n",
    "\n",
    "    Returns:\n",
    "        dictionary: Die verarbeiteten Ergebnisse des Trainingsprozesses\n",
    "    \"\"\"\n",
    "    model.to(device) #verschiben auf die GPU\n",
    "    results = {'epoch': [], 'train_loss': []} #ergebnisse initialisieren\n",
    "\n",
    "    #epochen durchlaufen\n",
    "    for epoch in range(epochs):\n",
    "        print(f\"Epoche {epoch + 1}/{epochs}\")\n",
    "        model.train() #training des models\n",
    "        total_loss = 0\n",
    "\n",
    "        for batch in tqdm(train_dataloader, desc=\"Training\"):\n",
    "            input_ids, attention_masks, labels = batch[0].to(device), batch[1].to(device), batch[2].to(device) #verschieben auf die GPU\n",
    "            optimizer.zero_grad() # Gradienten zurücksetzen\n",
    "\n",
    "            outputs = model(input_ids, attention_mask=attention_masks, labels=labels) #model ausführen\n",
    "            loss = outputs.loss #loss berechnen\n",
    "            loss.backward() #backpropagation\n",
    "            optimizer.step() #optimizer step\n",
    "\n",
    "            total_loss += loss.item() #totalen loss berechnen\n",
    "\n",
    "        avg_train_loss = total_loss / len(train_dataloader) #durchschnittlichen loss berechnen\n",
    "        results['epoch'].append(epoch + 1) #erweitern der epoche\n",
    "        results['train_loss'].append(avg_train_loss) #erweitern des trainingsloss\n",
    "        print(f\"Durchschnittlicher Trainingsverlust: {avg_train_loss}\") #ausgabe des durchschnittlichen trainingsloss\n",
    "\n",
    "    return results"
   ]
  },
  {
   "cell_type": "code",
   "execution_count": 5,
   "metadata": {},
   "outputs": [],
   "source": [
    "def evaluate_model(model, val_dataloader, val_df, device, text_column='cleaned_review'):\n",
    "    \"\"\"Evaluierung der Modelle mit den Validierungsdaten auf dem trainierten Modell.\n",
    "    \n",
    "    Args:\n",
    "        model(transformer.DistilBertForSequenceClassification): Das DistilBert Modell für die Klassifikation, nachdem es das Training durchlaufen hat.\n",
    "        val_dataloader (torch.Dataloader): Der Dataloader, welches die Validierungsdaten beinhaltet\n",
    "        val_df (PandasDataFrame): Die Pandas Dataframe der Validierungsdaten\n",
    "        device (str): GPU oder CPU Bestimmung\n",
    "        text_column (str): Die Spalte mit den Texten, die ausgewertet werden\n",
    "\n",
    "    Returns:\n",
    "        pd.DataFrame: DataFrame mit Texten, Vorhersagen und echten Labels\n",
    "    \"\"\"\n",
    "    model.eval()  # evaluation des Modells\n",
    "    predictions_list = []  # Liste für die Vorhersagen\n",
    "    labels_list = []  # Liste für die echten Labels\n",
    "    texts_list = []  # Liste für die Texte\n",
    "\n",
    "    for batch_idx, batch in enumerate(tqdm(val_dataloader, desc=\"Validierung\")):\n",
    "        input_ids, attention_masks, labels = batch[0].to(device), batch[1].to(device), batch[2].to(device)  # verschieben auf die GPU\n",
    "        with torch.no_grad():  # keine Gradientenberechnung (das Modell evaluiert)\n",
    "            outputs = model(input_ids, attention_mask=attention_masks)  # berechnung der Ausgaben\n",
    "            logits = outputs.logits  # logits berechnen\n",
    "            predictions = torch.argmax(logits, dim=1)  # umwandlung in Vorhersagen\n",
    "\n",
    "            # Vorhersagen und Labels zur späteren Auswertung speichern\n",
    "            predictions_list.extend(predictions.cpu().numpy())  # Vorhersagen zur Liste hinzufügen\n",
    "            labels_list.extend(labels.cpu().numpy())  # Wahre Labels zur Liste hinzufügen\n",
    "\n",
    "            # Speichere die zugehörigen Texte\n",
    "            texts_list.extend(val_df.iloc[batch_idx * val_dataloader.batch_size:(batch_idx + 1) * val_dataloader.batch_size][text_column].tolist())\n",
    "\n",
    "    # Erstelle einen DataFrame mit Texten, Vorhersagen und echten Labels\n",
    "    results_df = pd.DataFrame({\n",
    "        'text': texts_list,  # Die Texte (Rezensionen)\n",
    "        'true_label': labels_list,  # Die wahren Labels\n",
    "        'predicted_label': predictions_list  # Die vorhergesagten Labels\n",
    "    })\n",
    "\n",
    "    return results_df  # Rückgabe des DataFrames für spätere Analyse\n"
   ]
  },
  {
   "cell_type": "code",
   "execution_count": 159,
   "metadata": {},
   "outputs": [],
   "source": [
    "def run_experiment(df, tokenizer, device, text_column='cleaned_review', target_column='recommended', batch_size=16, epochs=3, learning_rate=2e-5,model_save_path=None):\n",
    "    \"\"\"Durchlauf eines Experiments, welches das Modell trainiert und evaluiert.\n",
    "       Die Funktion ist abhängig von den Vorherigen Funktionen und führt diese dann in der richtigen Reihenfolge aus.\n",
    "\n",
    "    Args:\n",
    "        df (PandasDataFrame): Die Pandas Dataframe die eingelesen wird\n",
    "        tokenizer (Transformer.DistilBertTokenizer): der distilbert tokenizer\n",
    "        device (str): GPU oder CPU bestimmung\n",
    "        text_column (str, optional): Der column welches die texte beinhaltet. Defaults zu 'cleaned_review'.\n",
    "        target_column (str, optional): Die Binärvariable, welches Predicted werden soll. Defaults zu 'recommended'.\n",
    "        batch_size (int, optional): Die Batch size die parallel auf die GPU verschoben wird. Defaults zu 16.\n",
    "        epochs (int, optional): Angabe der Epochen die trainiert werden sollen. Defaults to 3.\n",
    "        learning_rate (float, optional): Die learning Rate des Trainings. Defaults zu 2e-5.\n",
    "        model_save_path (str, optional): Der Pfad, wo das Modell gespeichert werden soll. Defaults zu None.\n",
    "\n",
    "    Returns:\n",
    "        dict: Ergebnisse des Experiments\n",
    "    \"\"\"\n",
    "    \n",
    "    train_df, val_df = split_data(df, target_column)  # Daten splitten\n",
    "\n",
    "    # Tokenisierung und Erstellung von Datasets\n",
    "    train_dataset = tokenize_and_create_dataset(train_df, tokenizer, text_column, target_column)\n",
    "    val_dataset = tokenize_and_create_dataset(val_df, tokenizer, text_column, target_column)\n",
    "\n",
    "    # Erstellung der DataLoader\n",
    "    train_dataloader = DataLoader(train_dataset, batch_size=batch_size, shuffle=True)\n",
    "    val_dataloader = DataLoader(val_dataset, batch_size=batch_size)\n",
    "\n",
    "    # Modell laden\n",
    "    model = DistilBertForSequenceClassification.from_pretrained('distilbert-base-uncased', num_labels=2)\n",
    "\n",
    "    # Definiere den Optimizer mit der PyTorch-AdamW-Version\n",
    "    optimizer = AdamW(model.parameters(), lr=learning_rate)\n",
    "\n",
    "    # Training des Modells\n",
    "    training_results = train_model(model, train_dataloader, optimizer, device, epochs)  \n",
    "\n",
    "    # Evaluation des Modells\n",
    "    results_df = evaluate_model(model, val_dataloader, val_df, device, text_column) \n",
    "\n",
    "    # Ergebnisse speichern\n",
    "    experiment_results = {\n",
    "        'train_loss': training_results['train_loss'],\n",
    "        'results_df': results_df  \n",
    "    }\n",
    "\n",
    "    if model_save_path is not None:\n",
    "            torch.save({\n",
    "            'model_state_dict': model.state_dict(),  \n",
    "            'optimizer_state_dict': optimizer.state_dict(),\n",
    "            'tokenizer': tokenizer,\n",
    "            }, model_save_path)\n",
    "\n",
    "    return experiment_results\n"
   ]
  },
  {
   "cell_type": "code",
   "execution_count": 21,
   "metadata": {},
   "outputs": [],
   "source": [
    "def evaluate_classification_results(results_df, true_col='true_label', pred_col='predicted_label', title='Confusion Matrix'):\n",
    "    \"\"\"\n",
    "    Wertet binäre Klassifikationsergebnisse aus und erstellt eine Confusion-Matrix.\n",
    "    \n",
    "    Parameter:\n",
    "    - results_df (DataFrame): DataFrame, der die tatsächlichen und vorhergesagten Labels enthält\n",
    "    - true_col (str): Name der Spalte mit den tatsächlichen Labels\n",
    "    - pred_col (str): Name der Spalte mit den vorhergesagten Labels\n",
    "    - title (str): Titel des Confusion-Matrix-Plots\n",
    "    \n",
    "    Rückgabewerte:\n",
    "    - str: Klassifikationsbericht\n",
    "    - Zeigt die Confusion-Matrix als Plot an\n",
    "    \"\"\"\n",
    "    # extahiere die wahren und vorhergesagten Labels\n",
    "    true_labels = results_df[true_col]\n",
    "    predicted_labels = results_df[pred_col]\n",
    "    \n",
    "    # report erstellen\n",
    "    report = classification_report(true_labels, predicted_labels)\n",
    "    print(report)\n",
    "    \n",
    "    # confusion matrix berechnen\n",
    "    conf_matrix = confusion_matrix(true_labels, predicted_labels)\n",
    "    \n",
    "    # Plotten\n",
    "    plt.figure(figsize=(8, 6))\n",
    "    sns.heatmap(conf_matrix, annot=True, fmt='d', cmap='Blues', cbar=False, \n",
    "                xticklabels=['Predicted Negative', 'Predicted Positive'], \n",
    "                yticklabels=['Actual Negative', 'Actual Positive'])\n",
    "    plt.title(title)\n",
    "    plt.xlabel('Predicted Label')\n",
    "    plt.ylabel('True Label')\n",
    "    plt.show()\n"
   ]
  },
  {
   "cell_type": "markdown",
   "metadata": {},
   "source": [
    "### Einlesen der GPU\n",
    "Zuerst müssen wir die GPU aktivieren, um die Modelle schneller zu trainieren und zu testen. Dafür wurden handelsübliche GPUs der Marke NVIDIA verwendet."
   ]
  },
  {
   "cell_type": "code",
   "execution_count": 7,
   "metadata": {},
   "outputs": [
    {
     "name": "stdout",
     "output_type": "stream",
     "text": [
      "GPU ist verfügbar: NVIDIA GeForce RTX 2080 SUPER\n"
     ]
    }
   ],
   "source": [
    "# Prüfe, ob eine GPU verfügbar ist\n",
    "if torch.cuda.is_available():\n",
    "    device = torch.device(\"cuda\")\n",
    "    print(f\"GPU ist verfügbar: {torch.cuda.get_device_name(0)}\")\n",
    "else:\n",
    "    device = torch.device(\"cpu\")\n",
    "    print(\"Keine GPU verfügbar, CPU wird verwendet\")"
   ]
  },
  {
   "cell_type": "markdown",
   "metadata": {},
   "source": [
    "## Daten & erste Tests\n",
    "\n",
    "Wir lesen nun die Orginaldaten ein und testen die Funktionen mit einer kleinen Anzahl von Daten."
   ]
  },
  {
   "cell_type": "code",
   "execution_count": 8,
   "metadata": {},
   "outputs": [],
   "source": [
    "df = pd.read_parquet(\"data/processed_data/steam_reviews_filtered.parquet\")"
   ]
  },
  {
   "cell_type": "code",
   "execution_count": 9,
   "metadata": {},
   "outputs": [],
   "source": [
    "df_statisfied, _ = split_data(df, target_column='recommended', test_size=0.99, random_state=42)"
   ]
  },
  {
   "cell_type": "code",
   "execution_count": 10,
   "metadata": {},
   "outputs": [
    {
     "data": {
      "text/html": [
       "<div>\n",
       "<style scoped>\n",
       "    .dataframe tbody tr th:only-of-type {\n",
       "        vertical-align: middle;\n",
       "    }\n",
       "\n",
       "    .dataframe tbody tr th {\n",
       "        vertical-align: top;\n",
       "    }\n",
       "\n",
       "    .dataframe thead th {\n",
       "        text-align: right;\n",
       "    }\n",
       "</style>\n",
       "<table border=\"1\" class=\"dataframe\">\n",
       "  <thead>\n",
       "    <tr style=\"text-align: right;\">\n",
       "      <th></th>\n",
       "      <th>app_id</th>\n",
       "      <th>app_name</th>\n",
       "      <th>review_id</th>\n",
       "      <th>language</th>\n",
       "      <th>review</th>\n",
       "      <th>timestamp_created</th>\n",
       "      <th>timestamp_updated</th>\n",
       "      <th>recommended</th>\n",
       "      <th>votes_helpful</th>\n",
       "      <th>votes_funny</th>\n",
       "      <th>...</th>\n",
       "      <th>author.num_reviews</th>\n",
       "      <th>author.playtime_forever</th>\n",
       "      <th>author.playtime_last_two_weeks</th>\n",
       "      <th>author.playtime_at_review</th>\n",
       "      <th>author.last_played</th>\n",
       "      <th>publisher</th>\n",
       "      <th>genres</th>\n",
       "      <th>notes</th>\n",
       "      <th>cleaned_review</th>\n",
       "      <th>token_length</th>\n",
       "    </tr>\n",
       "  </thead>\n",
       "  <tbody>\n",
       "    <tr>\n",
       "      <th>2544345</th>\n",
       "      <td>476600</td>\n",
       "      <td>Call of Duty: WWII</td>\n",
       "      <td>77423511</td>\n",
       "      <td>english</td>\n",
       "      <td>This game had great production value. Graphic,...</td>\n",
       "      <td>2020-10-11 23:45:03</td>\n",
       "      <td>2020-10-11 23:45:03</td>\n",
       "      <td>False</td>\n",
       "      <td>1</td>\n",
       "      <td>0</td>\n",
       "      <td>...</td>\n",
       "      <td>36</td>\n",
       "      <td>360.0</td>\n",
       "      <td>0.0</td>\n",
       "      <td>360.0</td>\n",
       "      <td>2020-10-11 23:44:06</td>\n",
       "      <td>None</td>\n",
       "      <td>None</td>\n",
       "      <td>None</td>\n",
       "      <td>this game had great production value. graphic,...</td>\n",
       "      <td>40</td>\n",
       "    </tr>\n",
       "    <tr>\n",
       "      <th>1546767</th>\n",
       "      <td>1289310</td>\n",
       "      <td>Helltaker</td>\n",
       "      <td>75509876</td>\n",
       "      <td>english</td>\n",
       "      <td>I almost died of frustration but there were de...</td>\n",
       "      <td>2020-09-05 22:34:48</td>\n",
       "      <td>2020-09-05 22:34:48</td>\n",
       "      <td>True</td>\n",
       "      <td>2</td>\n",
       "      <td>0</td>\n",
       "      <td>...</td>\n",
       "      <td>2</td>\n",
       "      <td>410.0</td>\n",
       "      <td>0.0</td>\n",
       "      <td>325.0</td>\n",
       "      <td>2020-09-13 02:44:26</td>\n",
       "      <td>vanripper</td>\n",
       "      <td>[Adventure, Free To Play, Indie]</td>\n",
       "      <td>Suggestive clothing and poses. Don't put your ...</td>\n",
       "      <td>i almost died of frustration but there were de...</td>\n",
       "      <td>15</td>\n",
       "    </tr>\n",
       "    <tr>\n",
       "      <th>1106718</th>\n",
       "      <td>945360</td>\n",
       "      <td>Among Us</td>\n",
       "      <td>76616402</td>\n",
       "      <td>english</td>\n",
       "      <td>Very Quality Game. Fun, Playable with friends,...</td>\n",
       "      <td>2020-09-26 19:44:34</td>\n",
       "      <td>2020-09-26 19:44:34</td>\n",
       "      <td>True</td>\n",
       "      <td>1</td>\n",
       "      <td>0</td>\n",
       "      <td>...</td>\n",
       "      <td>1</td>\n",
       "      <td>3151.0</td>\n",
       "      <td>61.0</td>\n",
       "      <td>1851.0</td>\n",
       "      <td>2021-01-09 16:56:20</td>\n",
       "      <td>Innersloth</td>\n",
       "      <td>[Casual]</td>\n",
       "      <td>None</td>\n",
       "      <td>very quality game. fun, playable with friends,...</td>\n",
       "      <td>40</td>\n",
       "    </tr>\n",
       "    <tr>\n",
       "      <th>2217245</th>\n",
       "      <td>578080</td>\n",
       "      <td>PLAYERUNKNOWN'S BATTLEGROUNDS</td>\n",
       "      <td>77961331</td>\n",
       "      <td>english</td>\n",
       "      <td>Took it off geforce now and bad communication ...</td>\n",
       "      <td>2020-10-22 10:22:37</td>\n",
       "      <td>2020-10-22 10:22:37</td>\n",
       "      <td>False</td>\n",
       "      <td>2</td>\n",
       "      <td>1</td>\n",
       "      <td>...</td>\n",
       "      <td>3</td>\n",
       "      <td>847.0</td>\n",
       "      <td>0.0</td>\n",
       "      <td>822.0</td>\n",
       "      <td>2020-12-26 18:07:28</td>\n",
       "      <td>KRAFTON, Inc.</td>\n",
       "      <td>[Action, Adventure, Massively Multiplayer, Fre...</td>\n",
       "      <td>None</td>\n",
       "      <td>took it off geforce now and bad communication ...</td>\n",
       "      <td>14</td>\n",
       "    </tr>\n",
       "    <tr>\n",
       "      <th>2804997</th>\n",
       "      <td>524220</td>\n",
       "      <td>NieR:Automata™</td>\n",
       "      <td>64525256</td>\n",
       "      <td>english</td>\n",
       "      <td>sooo...\n",
       "I played and finished ending e and i h...</td>\n",
       "      <td>2020-03-05 00:24:44</td>\n",
       "      <td>2020-03-05 00:24:44</td>\n",
       "      <td>True</td>\n",
       "      <td>51</td>\n",
       "      <td>3</td>\n",
       "      <td>...</td>\n",
       "      <td>1</td>\n",
       "      <td>1674.0</td>\n",
       "      <td>0.0</td>\n",
       "      <td>1473.0</td>\n",
       "      <td>2020-07-24 07:42:17</td>\n",
       "      <td>None</td>\n",
       "      <td>None</td>\n",
       "      <td>None</td>\n",
       "      <td>sooo...\\ni played and finished ending e and i ...</td>\n",
       "      <td>288</td>\n",
       "    </tr>\n",
       "  </tbody>\n",
       "</table>\n",
       "<p>5 rows × 27 columns</p>\n",
       "</div>"
      ],
      "text/plain": [
       "          app_id                       app_name  review_id language  \\\n",
       "2544345   476600             Call of Duty: WWII   77423511  english   \n",
       "1546767  1289310                      Helltaker   75509876  english   \n",
       "1106718   945360                       Among Us   76616402  english   \n",
       "2217245   578080  PLAYERUNKNOWN'S BATTLEGROUNDS   77961331  english   \n",
       "2804997   524220                 NieR:Automata™   64525256  english   \n",
       "\n",
       "                                                    review  \\\n",
       "2544345  This game had great production value. Graphic,...   \n",
       "1546767  I almost died of frustration but there were de...   \n",
       "1106718  Very Quality Game. Fun, Playable with friends,...   \n",
       "2217245  Took it off geforce now and bad communication ...   \n",
       "2804997  sooo...\n",
       "I played and finished ending e and i h...   \n",
       "\n",
       "          timestamp_created   timestamp_updated  recommended  votes_helpful  \\\n",
       "2544345 2020-10-11 23:45:03 2020-10-11 23:45:03        False              1   \n",
       "1546767 2020-09-05 22:34:48 2020-09-05 22:34:48         True              2   \n",
       "1106718 2020-09-26 19:44:34 2020-09-26 19:44:34         True              1   \n",
       "2217245 2020-10-22 10:22:37 2020-10-22 10:22:37        False              2   \n",
       "2804997 2020-03-05 00:24:44 2020-03-05 00:24:44         True             51   \n",
       "\n",
       "         votes_funny  ...  author.num_reviews  author.playtime_forever  \\\n",
       "2544345            0  ...                  36                    360.0   \n",
       "1546767            0  ...                   2                    410.0   \n",
       "1106718            0  ...                   1                   3151.0   \n",
       "2217245            1  ...                   3                    847.0   \n",
       "2804997            3  ...                   1                   1674.0   \n",
       "\n",
       "         author.playtime_last_two_weeks  author.playtime_at_review  \\\n",
       "2544345                             0.0                      360.0   \n",
       "1546767                             0.0                      325.0   \n",
       "1106718                            61.0                     1851.0   \n",
       "2217245                             0.0                      822.0   \n",
       "2804997                             0.0                     1473.0   \n",
       "\n",
       "         author.last_played      publisher  \\\n",
       "2544345 2020-10-11 23:44:06           None   \n",
       "1546767 2020-09-13 02:44:26      vanripper   \n",
       "1106718 2021-01-09 16:56:20     Innersloth   \n",
       "2217245 2020-12-26 18:07:28  KRAFTON, Inc.   \n",
       "2804997 2020-07-24 07:42:17           None   \n",
       "\n",
       "                                                    genres  \\\n",
       "2544345                                               None   \n",
       "1546767                   [Adventure, Free To Play, Indie]   \n",
       "1106718                                           [Casual]   \n",
       "2217245  [Action, Adventure, Massively Multiplayer, Fre...   \n",
       "2804997                                               None   \n",
       "\n",
       "                                                     notes  \\\n",
       "2544345                                               None   \n",
       "1546767  Suggestive clothing and poses. Don't put your ...   \n",
       "1106718                                               None   \n",
       "2217245                                               None   \n",
       "2804997                                               None   \n",
       "\n",
       "                                            cleaned_review  token_length  \n",
       "2544345  this game had great production value. graphic,...            40  \n",
       "1546767  i almost died of frustration but there were de...            15  \n",
       "1106718  very quality game. fun, playable with friends,...            40  \n",
       "2217245  took it off geforce now and bad communication ...            14  \n",
       "2804997  sooo...\\ni played and finished ending e and i ...           288  \n",
       "\n",
       "[5 rows x 27 columns]"
      ]
     },
     "execution_count": 10,
     "metadata": {},
     "output_type": "execute_result"
    }
   ],
   "source": [
    "df_statisfied.head(5)"
   ]
  },
  {
   "cell_type": "code",
   "execution_count": 11,
   "metadata": {},
   "outputs": [
    {
     "data": {
      "text/plain": [
       "3583"
      ]
     },
     "execution_count": 11,
     "metadata": {},
     "output_type": "execute_result"
    }
   ],
   "source": [
    "len(df_statisfied)"
   ]
  },
  {
   "cell_type": "code",
   "execution_count": 12,
   "metadata": {},
   "outputs": [],
   "source": [
    "tokenizer = DistilBertTokenizer.from_pretrained('distilbert-base-uncased')"
   ]
  },
  {
   "cell_type": "code",
   "execution_count": 13,
   "metadata": {},
   "outputs": [
    {
     "name": "stderr",
     "output_type": "stream",
     "text": [
      "Tokenisierung: 100%|██████████| 2866/2866 [00:02<00:00, 1141.50it/s]\n",
      "Tokenisierung: 100%|██████████| 717/717 [00:00<00:00, 1155.28it/s]\n",
      "Some weights of DistilBertForSequenceClassification were not initialized from the model checkpoint at distilbert-base-uncased and are newly initialized: ['classifier.bias', 'classifier.weight', 'pre_classifier.bias', 'pre_classifier.weight']\n",
      "You should probably TRAIN this model on a down-stream task to be able to use it for predictions and inference.\n"
     ]
    },
    {
     "name": "stdout",
     "output_type": "stream",
     "text": [
      "Epoche 1/3\n"
     ]
    },
    {
     "name": "stderr",
     "output_type": "stream",
     "text": [
      "Training: 100%|██████████| 180/180 [02:47<00:00,  1.08it/s]\n"
     ]
    },
    {
     "name": "stdout",
     "output_type": "stream",
     "text": [
      "Durchschnittlicher Trainingsverlust: 0.3940926336269412\n",
      "Epoche 2/3\n"
     ]
    },
    {
     "name": "stderr",
     "output_type": "stream",
     "text": [
      "Training: 100%|██████████| 180/180 [02:50<00:00,  1.06it/s]\n"
     ]
    },
    {
     "name": "stdout",
     "output_type": "stream",
     "text": [
      "Durchschnittlicher Trainingsverlust: 0.18979946843658885\n",
      "Epoche 3/3\n"
     ]
    },
    {
     "name": "stderr",
     "output_type": "stream",
     "text": [
      "Training: 100%|██████████| 180/180 [02:49<00:00,  1.06it/s]\n"
     ]
    },
    {
     "name": "stdout",
     "output_type": "stream",
     "text": [
      "Durchschnittlicher Trainingsverlust: 0.0803213735550849\n"
     ]
    },
    {
     "name": "stderr",
     "output_type": "stream",
     "text": [
      "Validierung: 100%|██████████| 45/45 [00:12<00:00,  3.69it/s]\n"
     ]
    }
   ],
   "source": [
    "res_df_statisfied = run_experiment(df_statisfied, \n",
    "                                   tokenizer, \n",
    "                                   device, \n",
    "                                   text_column='cleaned_review', \n",
    "                                   target_column='recommended', \n",
    "                                   batch_size=16, \n",
    "                                   epochs=3, \n",
    "                                   learning_rate=2e-5)"
   ]
  },
  {
   "cell_type": "markdown",
   "metadata": {},
   "source": [
    "*Hinweis: Die Warnung kann trost ignoriert werden, da die Gewichte sowieso umgestellt werden müssen.*"
   ]
  },
  {
   "cell_type": "code",
   "execution_count": 22,
   "metadata": {},
   "outputs": [
    {
     "data": {
      "text/plain": [
       "{'train_loss': [0.3940926336269412, 0.18979946843658885, 0.0803213735550849],\n",
       " 'results_df':                                                   text  true_label  \\\n",
       " 0    you cant pause!! decent game but i do not have...           0   \n",
       " 1    very cute game and something to help you take ...           1   \n",
       " 2    although this game is fun while you watch othe...           0   \n",
       " 3    [h1] one of the few games in the warhammer uni...           1   \n",
       " 4    unbelievably good pdl/roguelite game. it has a...           1   \n",
       " ..                                                 ...         ...   \n",
       " 712  it's fun for a while, but gets boring quickly....           0   \n",
       " 713  hands down, the best remake of one the most po...           1   \n",
       " 714  i have 1200 hours in civ 5. the three hours i ...           0   \n",
       " 715  rip and tear until you find every secret in th...           1   \n",
       " 716  hades combines the signature storytelling/art ...           1   \n",
       " \n",
       "      predicted_label  \n",
       " 0                  0  \n",
       " 1                  1  \n",
       " 2                  0  \n",
       " 3                  1  \n",
       " 4                  1  \n",
       " ..               ...  \n",
       " 712                0  \n",
       " 713                1  \n",
       " 714                1  \n",
       " 715                1  \n",
       " 716                1  \n",
       " \n",
       " [717 rows x 3 columns]}"
      ]
     },
     "execution_count": 22,
     "metadata": {},
     "output_type": "execute_result"
    }
   ],
   "source": [
    "res_df_statisfied"
   ]
  },
  {
   "cell_type": "code",
   "execution_count": 23,
   "metadata": {},
   "outputs": [
    {
     "name": "stdout",
     "output_type": "stream",
     "text": [
      "              precision    recall  f1-score   support\n",
      "\n",
      "           0       0.82      0.65      0.72       158\n",
      "           1       0.91      0.96      0.93       559\n",
      "\n",
      "    accuracy                           0.89       717\n",
      "   macro avg       0.86      0.80      0.83       717\n",
      "weighted avg       0.89      0.89      0.88       717\n",
      "\n"
     ]
    },
    {
     "data": {
      "image/png": "[encoded data removed]",
      "text/plain": [
       "<Figure size 800x600 with 1 Axes>"
      ]
     },
     "metadata": {},
     "output_type": "display_data"
    }
   ],
   "source": [
    "evaluate_classification_results(res_df_statisfied[\"results_df\"])"
   ]
  },
  {
   "cell_type": "markdown",
   "metadata": {},
   "source": [
    "Bei den Ergebnissen sehen wir, dass schon eine geringe Menge an Daten ausreicht um eine sehr hohe Genauigkeit zu erreichen.\n",
    "Dabei tun sich die Negativen Reviews schwerer erkannt zu werden, da sie auch die Klasse der Imbalanced Class darstellen."
   ]
  },
  {
   "cell_type": "markdown",
   "metadata": {},
   "source": [
    "## Experimente"
   ]
  },
  {
   "cell_type": "markdown",
   "metadata": {},
   "source": [
    "Nun werden wir die Experimente für die verschiedenen Iterationen durchführen. Dabei werden wir die Datenmenge von 1.000 auf 10.000 erhöhen und die verschiedenen Zusatzinformationen hinzufügen.\n",
    "\n",
    "Dafür müssen die Daten eingelesen und für die Experimente vorbereitet werden.\n",
    "\n",
    "Wir werden für den Vergleich die Daten aus dem emotions_results ordner nehmen, da diese bereits die Emotionen enthalten, und auch die Orginalen Grunddaten enthalten."
   ]
  },
  {
   "cell_type": "markdown",
   "metadata": {},
   "source": [
    "### Daten Vorbereitung\n",
    "\n",
    "Wir müssen nun 4 verschiedene Textarten vorbereiten und diese auf 1000 und 10000 Daten einschränken:\n",
    "1. Nur Reviews\n",
    "2. Reviews + Genre + Publisher + Spielname\n",
    "3. Reviews + Emotionen\n",
    "4. Reviews + Genre + Publisher + Emotionen\n"
   ]
  },
  {
   "cell_type": "code",
   "execution_count": 105,
   "metadata": {},
   "outputs": [],
   "source": [
    "df_main = pd.read_parquet(\"data/emotions_results/steam_reviews_filtered_emotions.parquet\")"
   ]
  },
  {
   "cell_type": "code",
   "execution_count": 106,
   "metadata": {},
   "outputs": [
    {
     "data": {
      "text/html": [
       "<div>\n",
       "<style scoped>\n",
       "    .dataframe tbody tr th:only-of-type {\n",
       "        vertical-align: middle;\n",
       "    }\n",
       "\n",
       "    .dataframe tbody tr th {\n",
       "        vertical-align: top;\n",
       "    }\n",
       "\n",
       "    .dataframe thead th {\n",
       "        text-align: right;\n",
       "    }\n",
       "</style>\n",
       "<table border=\"1\" class=\"dataframe\">\n",
       "  <thead>\n",
       "    <tr style=\"text-align: right;\">\n",
       "      <th></th>\n",
       "      <th>app_id</th>\n",
       "      <th>app_name</th>\n",
       "      <th>review_id</th>\n",
       "      <th>language</th>\n",
       "      <th>review</th>\n",
       "      <th>timestamp_created</th>\n",
       "      <th>timestamp_updated</th>\n",
       "      <th>recommended</th>\n",
       "      <th>votes_helpful</th>\n",
       "      <th>votes_funny</th>\n",
       "      <th>...</th>\n",
       "      <th>love</th>\n",
       "      <th>nervousness</th>\n",
       "      <th>optimism</th>\n",
       "      <th>pride</th>\n",
       "      <th>realization</th>\n",
       "      <th>relief</th>\n",
       "      <th>remorse</th>\n",
       "      <th>sadness</th>\n",
       "      <th>surprise</th>\n",
       "      <th>neutral</th>\n",
       "    </tr>\n",
       "  </thead>\n",
       "  <tbody>\n",
       "    <tr>\n",
       "      <th>0</th>\n",
       "      <td>107410</td>\n",
       "      <td>Arma 3</td>\n",
       "      <td>70165190</td>\n",
       "      <td>english</td>\n",
       "      <td>Extremely in depth play for military tactics. ...</td>\n",
       "      <td>2020-06-01 21:45:47</td>\n",
       "      <td>2020-06-01 21:45:47</td>\n",
       "      <td>True</td>\n",
       "      <td>1</td>\n",
       "      <td>0</td>\n",
       "      <td>...</td>\n",
       "      <td>0.000134</td>\n",
       "      <td>0.000017</td>\n",
       "      <td>0.001844</td>\n",
       "      <td>0.000418</td>\n",
       "      <td>0.001069</td>\n",
       "      <td>0.000104</td>\n",
       "      <td>0.000038</td>\n",
       "      <td>0.000104</td>\n",
       "      <td>0.000121</td>\n",
       "      <td>0.005241</td>\n",
       "    </tr>\n",
       "    <tr>\n",
       "      <th>1</th>\n",
       "      <td>1145360</td>\n",
       "      <td>Hades</td>\n",
       "      <td>85003471</td>\n",
       "      <td>english</td>\n",
       "      <td>A fantastic rouge-lite that has enough variety...</td>\n",
       "      <td>2021-01-19 23:42:57</td>\n",
       "      <td>2021-01-19 23:42:57</td>\n",
       "      <td>True</td>\n",
       "      <td>1</td>\n",
       "      <td>0</td>\n",
       "      <td>...</td>\n",
       "      <td>0.000324</td>\n",
       "      <td>0.000012</td>\n",
       "      <td>0.000804</td>\n",
       "      <td>0.000376</td>\n",
       "      <td>0.000942</td>\n",
       "      <td>0.000082</td>\n",
       "      <td>0.000029</td>\n",
       "      <td>0.000105</td>\n",
       "      <td>0.000132</td>\n",
       "      <td>0.009596</td>\n",
       "    </tr>\n",
       "    <tr>\n",
       "      <th>2</th>\n",
       "      <td>683320</td>\n",
       "      <td>GRIS</td>\n",
       "      <td>79658641</td>\n",
       "      <td>english</td>\n",
       "      <td>I like artsy little indy games, and this one t...</td>\n",
       "      <td>2020-11-22 13:11:17</td>\n",
       "      <td>2020-11-22 13:11:17</td>\n",
       "      <td>False</td>\n",
       "      <td>3</td>\n",
       "      <td>1</td>\n",
       "      <td>...</td>\n",
       "      <td>0.050899</td>\n",
       "      <td>0.000376</td>\n",
       "      <td>0.008510</td>\n",
       "      <td>0.000330</td>\n",
       "      <td>0.012026</td>\n",
       "      <td>0.000507</td>\n",
       "      <td>0.000714</td>\n",
       "      <td>0.000949</td>\n",
       "      <td>0.004877</td>\n",
       "      <td>0.094245</td>\n",
       "    </tr>\n",
       "    <tr>\n",
       "      <th>3</th>\n",
       "      <td>814380</td>\n",
       "      <td>Sekiro™: Shadows Die Twice</td>\n",
       "      <td>61385460</td>\n",
       "      <td>english</td>\n",
       "      <td>hard game veri good cool animations i lika ver...</td>\n",
       "      <td>2020-01-05 22:43:23</td>\n",
       "      <td>2020-01-05 22:43:23</td>\n",
       "      <td>True</td>\n",
       "      <td>0</td>\n",
       "      <td>1</td>\n",
       "      <td>...</td>\n",
       "      <td>0.672724</td>\n",
       "      <td>0.000037</td>\n",
       "      <td>0.001738</td>\n",
       "      <td>0.000293</td>\n",
       "      <td>0.001156</td>\n",
       "      <td>0.000113</td>\n",
       "      <td>0.000087</td>\n",
       "      <td>0.000228</td>\n",
       "      <td>0.000235</td>\n",
       "      <td>0.008322</td>\n",
       "    </tr>\n",
       "    <tr>\n",
       "      <th>4</th>\n",
       "      <td>374320</td>\n",
       "      <td>DARK SOULS™ III</td>\n",
       "      <td>64935286</td>\n",
       "      <td>english</td>\n",
       "      <td>very good, anyone who say its bad says so beca...</td>\n",
       "      <td>2020-03-12 23:31:19</td>\n",
       "      <td>2020-03-12 23:31:19</td>\n",
       "      <td>True</td>\n",
       "      <td>3</td>\n",
       "      <td>0</td>\n",
       "      <td>...</td>\n",
       "      <td>0.000837</td>\n",
       "      <td>0.000181</td>\n",
       "      <td>0.003809</td>\n",
       "      <td>0.001189</td>\n",
       "      <td>0.009949</td>\n",
       "      <td>0.000652</td>\n",
       "      <td>0.000449</td>\n",
       "      <td>0.001122</td>\n",
       "      <td>0.000876</td>\n",
       "      <td>0.078062</td>\n",
       "    </tr>\n",
       "  </tbody>\n",
       "</table>\n",
       "<p>5 rows × 55 columns</p>\n",
       "</div>"
      ],
      "text/plain": [
       "    app_id                    app_name  review_id language  \\\n",
       "0   107410                      Arma 3   70165190  english   \n",
       "1  1145360                       Hades   85003471  english   \n",
       "2   683320                        GRIS   79658641  english   \n",
       "3   814380  Sekiro™: Shadows Die Twice   61385460  english   \n",
       "4   374320             DARK SOULS™ III   64935286  english   \n",
       "\n",
       "                                              review   timestamp_created  \\\n",
       "0  Extremely in depth play for military tactics. ... 2020-06-01 21:45:47   \n",
       "1  A fantastic rouge-lite that has enough variety... 2021-01-19 23:42:57   \n",
       "2  I like artsy little indy games, and this one t... 2020-11-22 13:11:17   \n",
       "3  hard game veri good cool animations i lika ver... 2020-01-05 22:43:23   \n",
       "4  very good, anyone who say its bad says so beca... 2020-03-12 23:31:19   \n",
       "\n",
       "    timestamp_updated  recommended  votes_helpful  votes_funny  ...      love  \\\n",
       "0 2020-06-01 21:45:47         True              1            0  ...  0.000134   \n",
       "1 2021-01-19 23:42:57         True              1            0  ...  0.000324   \n",
       "2 2020-11-22 13:11:17        False              3            1  ...  0.050899   \n",
       "3 2020-01-05 22:43:23         True              0            1  ...  0.672724   \n",
       "4 2020-03-12 23:31:19         True              3            0  ...  0.000837   \n",
       "\n",
       "   nervousness  optimism     pride  realization    relief   remorse   sadness  \\\n",
       "0     0.000017  0.001844  0.000418     0.001069  0.000104  0.000038  0.000104   \n",
       "1     0.000012  0.000804  0.000376     0.000942  0.000082  0.000029  0.000105   \n",
       "2     0.000376  0.008510  0.000330     0.012026  0.000507  0.000714  0.000949   \n",
       "3     0.000037  0.001738  0.000293     0.001156  0.000113  0.000087  0.000228   \n",
       "4     0.000181  0.003809  0.001189     0.009949  0.000652  0.000449  0.001122   \n",
       "\n",
       "   surprise   neutral  \n",
       "0  0.000121  0.005241  \n",
       "1  0.000132  0.009596  \n",
       "2  0.004877  0.094245  \n",
       "3  0.000235  0.008322  \n",
       "4  0.000876  0.078062  \n",
       "\n",
       "[5 rows x 55 columns]"
      ]
     },
     "execution_count": 106,
     "metadata": {},
     "output_type": "execute_result"
    }
   ],
   "source": [
    "df_main.head(5)"
   ]
  },
  {
   "cell_type": "markdown",
   "metadata": {},
   "source": [
    "### Helferfunktionen"
   ]
  },
  {
   "cell_type": "markdown",
   "metadata": {},
   "source": [
    "#### Art 2: Reviews + Genre + Publisher + Spielname Generator\n",
    "Wir erstellen eine Funktion, die die Daten für die Art 2 vorbereitet."
   ]
  },
  {
   "cell_type": "code",
   "execution_count": 134,
   "metadata": {},
   "outputs": [],
   "source": [
    "def cleaned_review_2_generator(df, text_col='cleaned_review', genre_col='genres', app_col='app_name', publisher_col='publisher'):\n",
    "    \"\"\"\n",
    "    Verarbeitet den DataFrame, bricht Listen in der Genres-Spalte auf, ersetzt NaN-Werte und erstellt Fließtext.\n",
    "\n",
    "    Args:\n",
    "        df (pd.DataFrame): Der DataFrame, der verarbeitet wird.\n",
    "        text_col (str): Die Spalte, die die Rezensionstexte enthält. Standardmäßig 'cleaned_review'.\n",
    "        genre_col (str): Die Spalte, die die Genres enthält. Standardmäßig 'genres'.\n",
    "        app_col (str): Die Spalte mit den App-Namen. Standardmäßig 'app_name'.\n",
    "        publisher_col (str): Die Spalte mit den Publisher-Namen. Standardmäßig 'publisher'.\n",
    "\n",
    "    Returns:\n",
    "        pd.DataFrame: Der verarbeitete DataFrame mit einer neuen Spalte 'cleaned_review_2', die den Fließtext enthält.\n",
    "    \"\"\"\n",
    "    \n",
    "    # Füllen von NaN-Werten \n",
    "    df = df.fillna(\"missing\")\n",
    "\n",
    "    # Umwandlung der 'genres'-Spalte\n",
    "    def convert_genres_to_text(x):\n",
    "        if isinstance(x, str):\n",
    "            genre_list = [genre.strip() for genre in x.split(',')]\n",
    "            if len(genre_list) > 1:\n",
    "                return ', '.join(genre_list[:-1]) + ' und ' + genre_list[-1]\n",
    "            else:\n",
    "                return genre_list[0]  \n",
    "        else:\n",
    "            return str(x).lower()\n",
    "\n",
    "    # umwandlen der listeneinträge\n",
    "    df[genre_col] = df[genre_col].apply(convert_genres_to_text)\n",
    "\n",
    "    # Erstellung der neuen Spalte 'cleaned_review_2'\n",
    "    df['cleaned_review_2'] = (\n",
    "        \"game: \" + df[app_col].str.lower() + \"; \" +\n",
    "        \"genre: \" + df[genre_col] + \"; \" +\n",
    "        \"publisher: \" + df[publisher_col].str.lower() + \"; \" + \n",
    "        \"review: \" + df[text_col].str.lower()\n",
    "    )\n",
    "\n",
    "    return df\n"
   ]
  },
  {
   "cell_type": "markdown",
   "metadata": {},
   "source": [
    "#### Art 3: Reviews + Emotionen \n",
    "Wir erstellen eine Funktion, die die Daten für die Art 3 vorbereitet."
   ]
  },
  {
   "cell_type": "code",
   "execution_count": 135,
   "metadata": {},
   "outputs": [],
   "source": [
    "def cleaned_review_3_generator(df, emotion_columns, threshold=0.5):\n",
    "    \"\"\"\n",
    "    Fügt die Top-Emotionen vor dem Review hinzu, alles in Kleinbuchstaben.\n",
    "    \n",
    "    Args:\n",
    "        df (pd.DataFrame): Der DataFrame mit den Reviews und den Emotionen.\n",
    "        emotion_columns (list): Liste der Spaltennamen, die die Emotionen enthalten.\n",
    "        threshold (float): Der Schwellenwert, ab dem eine Emotion als Mehrheitsklasse (über 50%) betrachtet wird.\n",
    "        \n",
    "    Returns:\n",
    "        pd.DataFrame: DataFrame mit einer neuen Spalte, in der die Top-Emotionen den Reviews vorangestellt sind.\n",
    "    \"\"\"\n",
    "    \n",
    "    def get_top_emotions(row):\n",
    "        # Filtere die Emotionen und sortiere sie nach Wert\n",
    "        emotions = row[emotion_columns]\n",
    "        sorted_emotions = emotions.sort_values(ascending=False)\n",
    "        \n",
    "        # Überprüfe, ob die höchste Emotion über dem Schwellenwert liegt (Mehrheitsklasse)\n",
    "        if sorted_emotions.iloc[0] >= threshold:\n",
    "            return sorted_emotions.index[0].lower()  # Gib die Emotion mit dem höchsten Wert zurück\n",
    "        \n",
    "        # Andernfalls nimm die ersten zwei Emotionen, beide in Kleinbuchstaben\n",
    "        return ' und '.join(sorted_emotions.index[:2].str.lower())\n",
    "\n",
    "    # Füge eine neue Spalte hinzu, die die Top-Emotionen enthält\n",
    "    df['top_emotions'] = df.apply(get_top_emotions, axis=1)\n",
    "    \n",
    "    # Füge die Top-Emotionen vor dem Review hinzu und alles in Kleinbuchstaben\n",
    "    df['cleaned_review_3'] = \"emotions: \" + df['top_emotions'] + \";\"+ \"review: \" + df['review'].str.lower()\n",
    "    \n",
    "    return df\n",
    "\n",
    "# Beispielaufruf\n",
    "emotion_columns = ['love', 'nervousness', 'optimism', 'pride', 'realization', \n",
    "                   'relief', 'remorse', 'sadness', 'surprise', 'neutral']"
   ]
  },
  {
   "cell_type": "markdown",
   "metadata": {},
   "source": [
    "#### Art 4: Reviews + Genre + Publisher + Emotionen\n",
    "Wir erstellen eine Funktion, die die Daten für die Art 4 vorbereitet."
   ]
  },
  {
   "cell_type": "code",
   "execution_count": 136,
   "metadata": {},
   "outputs": [],
   "source": [
    "def cleaned_review_4_generator(df, emotion_columns, threshold=0.5, text_col='cleaned_review', genre_col='genres', app_col='app_name', publisher_col='publisher'):\n",
    "    \"\"\"\n",
    "    Kombiniert die Generierung von Fließtext (cleaned_review_2) und das Hinzufügen der Top-Emotionen (cleaned_review_3).\n",
    "    \n",
    "    Args:\n",
    "        df (pd.DataFrame): Der DataFrame mit den Reviews, Emotionen, und weiteren Spalten.\n",
    "        emotion_columns (list): Liste der Spaltennamen, die die Emotionen enthalten.\n",
    "        threshold (float): Der Schwellenwert, ab dem eine Emotion als Mehrheitsklasse (über 50%) betrachtet wird.\n",
    "        text_col (str): Die Spalte, die die Rezensionstexte enthält. Standardmäßig 'cleaned_review'.\n",
    "        genre_col (str): Die Spalte, die die Genres enthält. Standardmäßig 'genres'.\n",
    "        app_col (str): Die Spalte mit den App-Namen. Standardmäßig 'app_name'.\n",
    "        publisher_col (str): Die Spalte mit den Publisher-Namen. Standardmäßig 'publisher'.\n",
    "\n",
    "    Returns:\n",
    "        pd.DataFrame: DataFrame mit einer neuen Spalte 'combined_review', die sowohl Fließtext als auch Top-Emotionen kombiniert.\n",
    "    \"\"\"\n",
    "    \n",
    "    # Füllen von NaN-Werten \n",
    "    df = df.fillna(\"missing\")\n",
    "\n",
    "    # Umwandlung der 'genres'-Spalte in Fließtext\n",
    "    def convert_genres_to_text(x):\n",
    "        if isinstance(x, str):\n",
    "            genre_list = [genre.strip() for genre in x.split(',')]\n",
    "            if len(genre_list) > 1:\n",
    "                return ', '.join(genre_list[:-1]) + ' und ' + genre_list[-1]\n",
    "            else:\n",
    "                return genre_list[0]  \n",
    "        else:\n",
    "            return str(x).lower()\n",
    "\n",
    "    # Umwandeln der Listeneinträge für Genres\n",
    "    df[genre_col] = df[genre_col].apply(convert_genres_to_text)\n",
    "\n",
    "    # Hinzufügen der Top-Emotionen\n",
    "    def get_top_emotions(row):\n",
    "        # Filtere die Emotionen und sortiere sie nach Wert\n",
    "        emotions = row[emotion_columns]\n",
    "        sorted_emotions = emotions.sort_values(ascending=False)\n",
    "        \n",
    "        # Überprüfe, ob die höchste Emotion über dem Schwellenwert liegt (Mehrheitsklasse)\n",
    "        if sorted_emotions.iloc[0] >= threshold:\n",
    "            return sorted_emotions.index[0].lower()  # Gib die Emotion mit dem höchsten Wert zurück\n",
    "        \n",
    "        # Andernfalls nimm die ersten zwei Emotionen, beide in Kleinbuchstaben\n",
    "        return ' und '.join(sorted_emotions.index[:2].str.lower())\n",
    "\n",
    "    # Berechne die Top-Emotionen für jede Zeile\n",
    "    df['top_emotions'] = df.apply(get_top_emotions, axis=1)\n",
    "    \n",
    "    # Kombiniere die Genres und Emotionen in einen finalen Text (cleaned_review_2 und cleaned_review_3)\n",
    "    df['cleaned_review_4'] = (\n",
    "        \"game: \" + df[app_col].str.lower() + \"; \" +\n",
    "        \"genre: \" + df[genre_col] + \"; \" +\n",
    "        \"publisher: \" + df[publisher_col].str.lower() + \"; \" +\n",
    "        \"emotions: \" + df['top_emotions'] + \"; \" +\n",
    "        \"review: \" + df[text_col].str.lower()\n",
    "    )\n",
    "\n",
    "    return df"
   ]
  },
  {
   "cell_type": "markdown",
   "metadata": {},
   "source": [
    "## Erstellen der Daten\n",
    "Nun Erstellen wir die columsn für das Training und die Evaluation für die vier verschiedenen reviewarten."
   ]
  },
  {
   "cell_type": "markdown",
   "metadata": {},
   "source": [
    "#### Art 2: Reviews + Genre + Publisher + Spielname"
   ]
  },
  {
   "cell_type": "code",
   "execution_count": 137,
   "metadata": {},
   "outputs": [],
   "source": [
    "# auswählen von 1000 und 10k samples stratisfied\n",
    "test_size_1k = 1 - (1000/ len(df_main))\n",
    "test_size_10k = 1 - (10000 / len(df_main))\n",
    "df_statisfied_1k, _ = split_data(df_main, target_column='recommended', test_size=test_size_1k, random_state=42)\n",
    "df_statisfied_10k, _ = split_data(df_main, target_column='recommended', test_size=test_size_10k, random_state=42)"
   ]
  },
  {
   "cell_type": "code",
   "execution_count": 138,
   "metadata": {},
   "outputs": [],
   "source": [
    "df_statisfied_1k = cleaned_review_2_generator(df_statisfied_1k)\n",
    "df_statisfied_10k = cleaned_review_2_generator(df_statisfied_10k)"
   ]
  },
  {
   "cell_type": "markdown",
   "metadata": {},
   "source": [
    "### Art 3: Reviews + Emotionen"
   ]
  },
  {
   "cell_type": "code",
   "execution_count": 139,
   "metadata": {},
   "outputs": [],
   "source": [
    "df_statisfied_1k = cleaned_review_3_generator(df_statisfied_1k, emotion_columns=emotion_columns)\n",
    "df_statisfied_10k = cleaned_review_3_generator(df_statisfied_10k,emotion_columns=emotion_columns)"
   ]
  },
  {
   "cell_type": "markdown",
   "metadata": {},
   "source": [
    "### Art 4: Reviews + Genre + Publisher + Emotionen"
   ]
  },
  {
   "cell_type": "code",
   "execution_count": 140,
   "metadata": {},
   "outputs": [],
   "source": [
    "df_statisfied_1k = cleaned_review_4_generator(df_statisfied_1k, emotion_columns=emotion_columns)\n",
    "df_statisfied_10k = cleaned_review_4_generator(df_statisfied_10k,emotion_columns=emotion_columns)"
   ]
  },
  {
   "cell_type": "code",
   "execution_count": 141,
   "metadata": {},
   "outputs": [
    {
     "data": {
      "text/plain": [
       "array([['might be a bit hard at first but a great game overall!',\n",
       "        'game: thehunter: call of the wild™; genre: missing; publisher: missing; review: might be a bit hard at first but a great game overall!',\n",
       "        'emotions: optimism und neutral;review: might be a bit hard at first but a great game overall!',\n",
       "        'game: thehunter: call of the wild™; genre: missing; publisher: missing; emotions: optimism und neutral; review: might be a bit hard at first but a great game overall!'],\n",
       "       ['it makes it more fun if you get mods from the workshop it runs well and i love it',\n",
       "        \"game: ravenfield; genre: ['action' 'indie' 'early access']; publisher: steelraven7; review: it makes it more fun if you get mods from the workshop it runs well and i love it\",\n",
       "        'emotions: love;review: it makes it more fun if you get mods from the workshop it runs well and i love it',\n",
       "        \"game: ravenfield; genre: ['action' 'indie' 'early access']; publisher: steelraven7; emotions: love; review: it makes it more fun if you get mods from the workshop it runs well and i love it\"],\n",
       "       ['i love this game i rate it 5 star even tho it is a 2015 game i still love it <3',\n",
       "        \"game: dying light; genre: ['action' 'rpg']; publisher: techland; review: i love this game i rate it 5 star even tho it is a 2015 game i still love it <3\",\n",
       "        'emotions: love;review: i love this game i rate it 5 star even tho it is a 2015 game i still love it <3',\n",
       "        \"game: dying light; genre: ['action' 'rpg']; publisher: techland; emotions: love; review: i love this game i rate it 5 star even tho it is a 2015 game i still love it <3\"]],\n",
       "      dtype=object)"
      ]
     },
     "execution_count": 141,
     "metadata": {},
     "output_type": "execute_result"
    }
   ],
   "source": [
    "df_statisfied_1k[[\"cleaned_review\",\"cleaned_review_2\",\"cleaned_review_3\",\"cleaned_review_4\"]].head(3).values"
   ]
  },
  {
   "cell_type": "markdown",
   "metadata": {},
   "source": [
    "## Benchmark 1k\n",
    "Nun durchlaufen wir die Experimente für die 1k Daten."
   ]
  },
  {
   "cell_type": "code",
   "execution_count": 160,
   "metadata": {},
   "outputs": [
    {
     "name": "stderr",
     "output_type": "stream",
     "text": [
      "Tokenisierung: 100%|██████████| 800/800 [00:00<00:00, 1034.48it/s]\n",
      "Tokenisierung: 100%|██████████| 200/200 [00:00<00:00, 1067.99it/s]\n",
      "Some weights of DistilBertForSequenceClassification were not initialized from the model checkpoint at distilbert-base-uncased and are newly initialized: ['classifier.bias', 'classifier.weight', 'pre_classifier.bias', 'pre_classifier.weight']\n",
      "You should probably TRAIN this model on a down-stream task to be able to use it for predictions and inference.\n"
     ]
    },
    {
     "name": "stdout",
     "output_type": "stream",
     "text": [
      "Epoche 1/3\n"
     ]
    },
    {
     "name": "stderr",
     "output_type": "stream",
     "text": [
      "Training: 100%|██████████| 50/50 [00:44<00:00,  1.13it/s]\n"
     ]
    },
    {
     "name": "stdout",
     "output_type": "stream",
     "text": [
      "Durchschnittlicher Trainingsverlust: 0.48014180213212965\n",
      "Epoche 2/3\n"
     ]
    },
    {
     "name": "stderr",
     "output_type": "stream",
     "text": [
      "Training: 100%|██████████| 50/50 [00:45<00:00,  1.10it/s]\n"
     ]
    },
    {
     "name": "stdout",
     "output_type": "stream",
     "text": [
      "Durchschnittlicher Trainingsverlust: 0.22391062833368777\n",
      "Epoche 3/3\n"
     ]
    },
    {
     "name": "stderr",
     "output_type": "stream",
     "text": [
      "Training: 100%|██████████| 50/50 [00:44<00:00,  1.12it/s]\n"
     ]
    },
    {
     "name": "stdout",
     "output_type": "stream",
     "text": [
      "Durchschnittlicher Trainingsverlust: 0.10034715976566076\n"
     ]
    },
    {
     "name": "stderr",
     "output_type": "stream",
     "text": [
      "Validierung: 100%|██████████| 13/13 [00:03<00:00,  3.96it/s]\n"
     ]
    }
   ],
   "source": [
    "base_1_1k_samples = run_experiment(df_statisfied_1k, \n",
    "                                   tokenizer, \n",
    "                                   device, \n",
    "                                   text_column='cleaned_review', \n",
    "                                   target_column='recommended', \n",
    "                                   batch_size=16, \n",
    "                                   epochs=3, \n",
    "                                   learning_rate=2e-5,\n",
    "                                   model_save_path=\"models/distilbert_base_1k_samples_test.pt\")"
   ]
  },
  {
   "cell_type": "code",
   "execution_count": 143,
   "metadata": {},
   "outputs": [
    {
     "name": "stderr",
     "output_type": "stream",
     "text": [
      "Tokenisierung: 100%|██████████| 800/800 [00:00<00:00, 873.50it/s]\n",
      "Tokenisierung: 100%|██████████| 200/200 [00:00<00:00, 919.65it/s]\n",
      "Some weights of DistilBertForSequenceClassification were not initialized from the model checkpoint at distilbert-base-uncased and are newly initialized: ['classifier.bias', 'classifier.weight', 'pre_classifier.bias', 'pre_classifier.weight']\n",
      "You should probably TRAIN this model on a down-stream task to be able to use it for predictions and inference.\n"
     ]
    },
    {
     "name": "stdout",
     "output_type": "stream",
     "text": [
      "Epoche 1/3\n"
     ]
    },
    {
     "name": "stderr",
     "output_type": "stream",
     "text": [
      "Training: 100%|██████████| 50/50 [00:44<00:00,  1.12it/s]\n"
     ]
    },
    {
     "name": "stdout",
     "output_type": "stream",
     "text": [
      "Durchschnittlicher Trainingsverlust: 0.48559242963790894\n",
      "Epoche 2/3\n"
     ]
    },
    {
     "name": "stderr",
     "output_type": "stream",
     "text": [
      "Training: 100%|██████████| 50/50 [00:44<00:00,  1.12it/s]\n"
     ]
    },
    {
     "name": "stdout",
     "output_type": "stream",
     "text": [
      "Durchschnittlicher Trainingsverlust: 0.26298091538250445\n",
      "Epoche 3/3\n"
     ]
    },
    {
     "name": "stderr",
     "output_type": "stream",
     "text": [
      "Training: 100%|██████████| 50/50 [00:44<00:00,  1.14it/s]\n"
     ]
    },
    {
     "name": "stdout",
     "output_type": "stream",
     "text": [
      "Durchschnittlicher Trainingsverlust: 0.140502564124763\n"
     ]
    },
    {
     "name": "stderr",
     "output_type": "stream",
     "text": [
      "Validierung: 100%|██████████| 13/13 [00:03<00:00,  3.77it/s]\n"
     ]
    }
   ],
   "source": [
    "base_2_1k_samples = run_experiment(df_statisfied_1k, \n",
    "                                   tokenizer, \n",
    "                                   device, \n",
    "                                   text_column='cleaned_review_2', \n",
    "                                   target_column='recommended', \n",
    "                                   batch_size=16, \n",
    "                                   epochs=3, \n",
    "                                   learning_rate=2e-5)"
   ]
  },
  {
   "cell_type": "code",
   "execution_count": 144,
   "metadata": {},
   "outputs": [
    {
     "name": "stderr",
     "output_type": "stream",
     "text": [
      "Tokenisierung: 100%|██████████| 800/800 [00:00<00:00, 997.69it/s] \n",
      "Tokenisierung: 100%|██████████| 200/200 [00:00<00:00, 982.55it/s] \n",
      "Some weights of DistilBertForSequenceClassification were not initialized from the model checkpoint at distilbert-base-uncased and are newly initialized: ['classifier.bias', 'classifier.weight', 'pre_classifier.bias', 'pre_classifier.weight']\n",
      "You should probably TRAIN this model on a down-stream task to be able to use it for predictions and inference.\n"
     ]
    },
    {
     "name": "stdout",
     "output_type": "stream",
     "text": [
      "Epoche 1/3\n"
     ]
    },
    {
     "name": "stderr",
     "output_type": "stream",
     "text": [
      "Training: 100%|██████████| 50/50 [00:43<00:00,  1.15it/s]\n"
     ]
    },
    {
     "name": "stdout",
     "output_type": "stream",
     "text": [
      "Durchschnittlicher Trainingsverlust: 0.5047025403380394\n",
      "Epoche 2/3\n"
     ]
    },
    {
     "name": "stderr",
     "output_type": "stream",
     "text": [
      "Training: 100%|██████████| 50/50 [00:43<00:00,  1.14it/s]\n"
     ]
    },
    {
     "name": "stdout",
     "output_type": "stream",
     "text": [
      "Durchschnittlicher Trainingsverlust: 0.3221583491563797\n",
      "Epoche 3/3\n"
     ]
    },
    {
     "name": "stderr",
     "output_type": "stream",
     "text": [
      "Training: 100%|██████████| 50/50 [00:44<00:00,  1.13it/s]\n"
     ]
    },
    {
     "name": "stdout",
     "output_type": "stream",
     "text": [
      "Durchschnittlicher Trainingsverlust: 0.11893412701785565\n"
     ]
    },
    {
     "name": "stderr",
     "output_type": "stream",
     "text": [
      "Validierung: 100%|██████████| 13/13 [00:03<00:00,  3.77it/s]\n"
     ]
    }
   ],
   "source": [
    "base_3_1k_samples = run_experiment(df_statisfied_1k, \n",
    "                                   tokenizer, \n",
    "                                   device, \n",
    "                                   text_column='cleaned_review_3', \n",
    "                                   target_column='recommended', \n",
    "                                   batch_size=16, \n",
    "                                   epochs=3, \n",
    "                                   learning_rate=2e-5)"
   ]
  },
  {
   "cell_type": "code",
   "execution_count": 145,
   "metadata": {},
   "outputs": [
    {
     "name": "stderr",
     "output_type": "stream",
     "text": [
      "Tokenisierung: 100%|██████████| 800/800 [00:00<00:00, 843.08it/s]\n",
      "Tokenisierung: 100%|██████████| 200/200 [00:00<00:00, 851.38it/s]\n",
      "Some weights of DistilBertForSequenceClassification were not initialized from the model checkpoint at distilbert-base-uncased and are newly initialized: ['classifier.bias', 'classifier.weight', 'pre_classifier.bias', 'pre_classifier.weight']\n",
      "You should probably TRAIN this model on a down-stream task to be able to use it for predictions and inference.\n"
     ]
    },
    {
     "name": "stdout",
     "output_type": "stream",
     "text": [
      "Epoche 1/3\n"
     ]
    },
    {
     "name": "stderr",
     "output_type": "stream",
     "text": [
      "Training: 100%|██████████| 50/50 [00:43<00:00,  1.15it/s]\n"
     ]
    },
    {
     "name": "stdout",
     "output_type": "stream",
     "text": [
      "Durchschnittlicher Trainingsverlust: 0.48947004944086075\n",
      "Epoche 2/3\n"
     ]
    },
    {
     "name": "stderr",
     "output_type": "stream",
     "text": [
      "Training: 100%|██████████| 50/50 [00:43<00:00,  1.14it/s]\n"
     ]
    },
    {
     "name": "stdout",
     "output_type": "stream",
     "text": [
      "Durchschnittlicher Trainingsverlust: 0.31861367762088777\n",
      "Epoche 3/3\n"
     ]
    },
    {
     "name": "stderr",
     "output_type": "stream",
     "text": [
      "Training: 100%|██████████| 50/50 [00:43<00:00,  1.14it/s]\n"
     ]
    },
    {
     "name": "stdout",
     "output_type": "stream",
     "text": [
      "Durchschnittlicher Trainingsverlust: 0.14112784165889025\n"
     ]
    },
    {
     "name": "stderr",
     "output_type": "stream",
     "text": [
      "Validierung: 100%|██████████| 13/13 [00:03<00:00,  3.77it/s]\n"
     ]
    }
   ],
   "source": [
    "base_4_1k_samples = run_experiment(df_statisfied_1k, \n",
    "                                   tokenizer, \n",
    "                                   device, \n",
    "                                   text_column='cleaned_review_4', \n",
    "                                   target_column='recommended', \n",
    "                                   batch_size=16, \n",
    "                                   epochs=3, \n",
    "                                   learning_rate=2e-5)"
   ]
  },
  {
   "cell_type": "markdown",
   "metadata": {},
   "source": [
    "### Evaluierung der Experimente mit 1k Daten"
   ]
  },
  {
   "cell_type": "code",
   "execution_count": 146,
   "metadata": {},
   "outputs": [
    {
     "name": "stdout",
     "output_type": "stream",
     "text": [
      "              precision    recall  f1-score   support\n",
      "\n",
      "           0       0.83      0.66      0.73        44\n",
      "           1       0.91      0.96      0.93       156\n",
      "\n",
      "    accuracy                           0.90       200\n",
      "   macro avg       0.87      0.81      0.83       200\n",
      "weighted avg       0.89      0.90      0.89       200\n",
      "\n"
     ]
    },
    {
     "data": {
      "image/png": "[encoded data removed]",
      "text/plain": [
       "<Figure size 800x600 with 1 Axes>"
      ]
     },
     "metadata": {},
     "output_type": "display_data"
    }
   ],
   "source": [
    "evaluate_classification_results(base_1_1k_samples[\"results_df\"], title=\"Base 1 (Nur Reviews) - 1k Samples\")"
   ]
  },
  {
   "cell_type": "code",
   "execution_count": 147,
   "metadata": {},
   "outputs": [
    {
     "name": "stdout",
     "output_type": "stream",
     "text": [
      "              precision    recall  f1-score   support\n",
      "\n",
      "           0       0.73      0.75      0.74        44\n",
      "           1       0.93      0.92      0.93       156\n",
      "\n",
      "    accuracy                           0.89       200\n",
      "   macro avg       0.83      0.84      0.83       200\n",
      "weighted avg       0.89      0.89      0.89       200\n",
      "\n"
     ]
    },
    {
     "data": {
      "image/png": "[encoded data removed]",
      "text/plain": [
       "<Figure size 800x600 with 1 Axes>"
      ]
     },
     "metadata": {},
     "output_type": "display_data"
    }
   ],
   "source": [
    "evaluate_classification_results(base_2_1k_samples[\"results_df\"], title=\"Base 2 (Review und Spiel Informationen) - 1k Samples\")"
   ]
  },
  {
   "cell_type": "code",
   "execution_count": 148,
   "metadata": {},
   "outputs": [
    {
     "name": "stdout",
     "output_type": "stream",
     "text": [
      "              precision    recall  f1-score   support\n",
      "\n",
      "           0       0.74      0.73      0.74        44\n",
      "           1       0.92      0.93      0.93       156\n",
      "\n",
      "    accuracy                           0.89       200\n",
      "   macro avg       0.83      0.83      0.83       200\n",
      "weighted avg       0.88      0.89      0.88       200\n",
      "\n"
     ]
    },
    {
     "data": {
      "image/png": "[encoded data removed]",
      "text/plain": [
       "<Figure size 800x600 with 1 Axes>"
      ]
     },
     "metadata": {},
     "output_type": "display_data"
    }
   ],
   "source": [
    "evaluate_classification_results(base_3_1k_samples[\"results_df\"], title=\"Base 3 (Review und Top Emotionen) - 1k Samples\")"
   ]
  },
  {
   "cell_type": "code",
   "execution_count": 149,
   "metadata": {},
   "outputs": [
    {
     "name": "stdout",
     "output_type": "stream",
     "text": [
      "              precision    recall  f1-score   support\n",
      "\n",
      "           0       0.75      0.75      0.75        44\n",
      "           1       0.93      0.93      0.93       156\n",
      "\n",
      "    accuracy                           0.89       200\n",
      "   macro avg       0.84      0.84      0.84       200\n",
      "weighted avg       0.89      0.89      0.89       200\n",
      "\n"
     ]
    },
    {
     "data": {
      "image/png": "[encoded data removed]",
      "text/plain": [
       "<Figure size 800x600 with 1 Axes>"
      ]
     },
     "metadata": {},
     "output_type": "display_data"
    }
   ],
   "source": [
    "evaluate_classification_results(base_4_1k_samples[\"results_df\"], title=\"Base 4 (Review, Spielinfo, Emotionen - 1k Samples\")"
   ]
  },
  {
   "cell_type": "markdown",
   "metadata": {},
   "source": [
    "Was wir nun mit den 1k Daten sehen können ist, dass die Genauigkeit sehr hoch ist, jedoch die Recall und Precision Werte sehr niedrig sind. Wenn keine zusatzinformation für das Modell vorhanden ist, kann es nicht gut zwischen den Klassen unterscheiden.\n",
    "\n",
    "Aber in dem Moment, wo wir die Genre, Publisher und Emotionen hinzufügen, sehen wir, dass die Genauigkeit sinkt, jedoch die Recall und Precision Werte steigen. \n",
    "\n",
    "Das bedeutet, dass das Modell besser zwischen den Klassen unterscheiden kann.\n",
    "\n",
    "Was dazu noch gesagt werden sollte ist die imbalanced class, die die negativen Reviews darstellen. \n",
    "\n",
    "Diese sind schwerer zu erkennen, da sie in der Minderheit sind."
   ]
  },
  {
   "cell_type": "markdown",
   "metadata": {},
   "source": [
    "## Benchmark 10k\n",
    "Nun durchlaufen wir die Experimente für die 10k Daten, um zu sehen, wie stark sich die Genauigkeit und die Recall und Precision Werte verändern."
   ]
  },
  {
   "cell_type": "code",
   "execution_count": 150,
   "metadata": {},
   "outputs": [
    {
     "name": "stderr",
     "output_type": "stream",
     "text": [
      "Tokenisierung: 100%|██████████| 8000/8000 [00:07<00:00, 1070.93it/s]\n",
      "Tokenisierung: 100%|██████████| 2000/2000 [00:01<00:00, 1054.87it/s]\n",
      "Some weights of DistilBertForSequenceClassification were not initialized from the model checkpoint at distilbert-base-uncased and are newly initialized: ['classifier.bias', 'classifier.weight', 'pre_classifier.bias', 'pre_classifier.weight']\n",
      "You should probably TRAIN this model on a down-stream task to be able to use it for predictions and inference.\n"
     ]
    },
    {
     "name": "stdout",
     "output_type": "stream",
     "text": [
      "Epoche 1/3\n"
     ]
    },
    {
     "name": "stderr",
     "output_type": "stream",
     "text": [
      "Training: 100%|██████████| 500/500 [07:22<00:00,  1.13it/s]\n"
     ]
    },
    {
     "name": "stdout",
     "output_type": "stream",
     "text": [
      "Durchschnittlicher Trainingsverlust: 0.28659199752658604\n",
      "Epoche 2/3\n"
     ]
    },
    {
     "name": "stderr",
     "output_type": "stream",
     "text": [
      "Training: 100%|██████████| 500/500 [07:28<00:00,  1.12it/s]\n"
     ]
    },
    {
     "name": "stdout",
     "output_type": "stream",
     "text": [
      "Durchschnittlicher Trainingsverlust: 0.14658591505419463\n",
      "Epoche 3/3\n"
     ]
    },
    {
     "name": "stderr",
     "output_type": "stream",
     "text": [
      "Training: 100%|██████████| 500/500 [07:19<00:00,  1.14it/s]\n"
     ]
    },
    {
     "name": "stdout",
     "output_type": "stream",
     "text": [
      "Durchschnittlicher Trainingsverlust: 0.07356385300680995\n"
     ]
    },
    {
     "name": "stderr",
     "output_type": "stream",
     "text": [
      "Validierung: 100%|██████████| 125/125 [00:32<00:00,  3.83it/s]\n"
     ]
    }
   ],
   "source": [
    "base_1_10k_samples = run_experiment(df_statisfied_10k,\n",
    "                                    tokenizer,\n",
    "                                    device,\n",
    "                                    text_column='cleaned_review',\n",
    "                                    target_column='recommended',\n",
    "                                    batch_size=16,\n",
    "                                    epochs=3,\n",
    "                                    learning_rate=2e-5)"
   ]
  },
  {
   "cell_type": "code",
   "execution_count": 151,
   "metadata": {},
   "outputs": [
    {
     "name": "stderr",
     "output_type": "stream",
     "text": [
      "Tokenisierung: 100%|██████████| 8000/8000 [00:08<00:00, 891.58it/s]\n",
      "Tokenisierung: 100%|██████████| 2000/2000 [00:02<00:00, 907.62it/s] \n",
      "Some weights of DistilBertForSequenceClassification were not initialized from the model checkpoint at distilbert-base-uncased and are newly initialized: ['classifier.bias', 'classifier.weight', 'pre_classifier.bias', 'pre_classifier.weight']\n",
      "You should probably TRAIN this model on a down-stream task to be able to use it for predictions and inference.\n"
     ]
    },
    {
     "name": "stdout",
     "output_type": "stream",
     "text": [
      "Epoche 1/3\n"
     ]
    },
    {
     "name": "stderr",
     "output_type": "stream",
     "text": [
      "Training: 100%|██████████| 500/500 [07:18<00:00,  1.14it/s]\n"
     ]
    },
    {
     "name": "stdout",
     "output_type": "stream",
     "text": [
      "Durchschnittlicher Trainingsverlust: 0.2856378143839538\n",
      "Epoche 2/3\n"
     ]
    },
    {
     "name": "stderr",
     "output_type": "stream",
     "text": [
      "Training: 100%|██████████| 500/500 [07:14<00:00,  1.15it/s]\n"
     ]
    },
    {
     "name": "stdout",
     "output_type": "stream",
     "text": [
      "Durchschnittlicher Trainingsverlust: 0.1536272568255663\n",
      "Epoche 3/3\n"
     ]
    },
    {
     "name": "stderr",
     "output_type": "stream",
     "text": [
      "Training: 100%|██████████| 500/500 [07:14<00:00,  1.15it/s]\n"
     ]
    },
    {
     "name": "stdout",
     "output_type": "stream",
     "text": [
      "Durchschnittlicher Trainingsverlust: 0.08563507979828865\n"
     ]
    },
    {
     "name": "stderr",
     "output_type": "stream",
     "text": [
      "Validierung: 100%|██████████| 125/125 [00:32<00:00,  3.80it/s]\n"
     ]
    }
   ],
   "source": [
    "base_2_10k_samples = run_experiment(df_statisfied_10k,\n",
    "                                    tokenizer,\n",
    "                                    device,\n",
    "                                    text_column='cleaned_review_2',\n",
    "                                    target_column='recommended',\n",
    "                                    batch_size=16,\n",
    "                                    epochs=3,\n",
    "                                    learning_rate=2e-5)"
   ]
  },
  {
   "cell_type": "code",
   "execution_count": 152,
   "metadata": {},
   "outputs": [
    {
     "name": "stderr",
     "output_type": "stream",
     "text": [
      "Tokenisierung: 100%|██████████| 8000/8000 [00:09<00:00, 885.22it/s] \n",
      "Tokenisierung: 100%|██████████| 2000/2000 [00:02<00:00, 982.00it/s] \n",
      "Some weights of DistilBertForSequenceClassification were not initialized from the model checkpoint at distilbert-base-uncased and are newly initialized: ['classifier.bias', 'classifier.weight', 'pre_classifier.bias', 'pre_classifier.weight']\n",
      "You should probably TRAIN this model on a down-stream task to be able to use it for predictions and inference.\n"
     ]
    },
    {
     "name": "stdout",
     "output_type": "stream",
     "text": [
      "Epoche 1/3\n"
     ]
    },
    {
     "name": "stderr",
     "output_type": "stream",
     "text": [
      "Training: 100%|██████████| 500/500 [07:13<00:00,  1.15it/s]\n"
     ]
    },
    {
     "name": "stdout",
     "output_type": "stream",
     "text": [
      "Durchschnittlicher Trainingsverlust: 0.2895170981436968\n",
      "Epoche 2/3\n"
     ]
    },
    {
     "name": "stderr",
     "output_type": "stream",
     "text": [
      "Training: 100%|██████████| 500/500 [07:14<00:00,  1.15it/s]\n"
     ]
    },
    {
     "name": "stdout",
     "output_type": "stream",
     "text": [
      "Durchschnittlicher Trainingsverlust: 0.15613991985470058\n",
      "Epoche 3/3\n"
     ]
    },
    {
     "name": "stderr",
     "output_type": "stream",
     "text": [
      "Training: 100%|██████████| 500/500 [07:17<00:00,  1.14it/s]\n"
     ]
    },
    {
     "name": "stdout",
     "output_type": "stream",
     "text": [
      "Durchschnittlicher Trainingsverlust: 0.08298791794106364\n"
     ]
    },
    {
     "name": "stderr",
     "output_type": "stream",
     "text": [
      "Validierung: 100%|██████████| 125/125 [00:33<00:00,  3.71it/s]\n"
     ]
    }
   ],
   "source": [
    "base_3_10k_samples = run_experiment(df_statisfied_10k,\n",
    "                                    tokenizer,\n",
    "                                    device,\n",
    "                                    text_column='cleaned_review_3',\n",
    "                                    target_column='recommended',\n",
    "                                    batch_size=16,\n",
    "                                    epochs=3,\n",
    "                                    learning_rate=2e-5)"
   ]
  },
  {
   "cell_type": "code",
   "execution_count": 153,
   "metadata": {},
   "outputs": [
    {
     "name": "stderr",
     "output_type": "stream",
     "text": [
      "Tokenisierung: 100%|██████████| 8000/8000 [00:10<00:00, 745.85it/s]\n",
      "Tokenisierung: 100%|██████████| 2000/2000 [00:02<00:00, 781.28it/s]\n",
      "Some weights of DistilBertForSequenceClassification were not initialized from the model checkpoint at distilbert-base-uncased and are newly initialized: ['classifier.bias', 'classifier.weight', 'pre_classifier.bias', 'pre_classifier.weight']\n",
      "You should probably TRAIN this model on a down-stream task to be able to use it for predictions and inference.\n"
     ]
    },
    {
     "name": "stdout",
     "output_type": "stream",
     "text": [
      "Epoche 1/3\n"
     ]
    },
    {
     "name": "stderr",
     "output_type": "stream",
     "text": [
      "Training: 100%|██████████| 500/500 [07:14<00:00,  1.15it/s]\n"
     ]
    },
    {
     "name": "stdout",
     "output_type": "stream",
     "text": [
      "Durchschnittlicher Trainingsverlust: 0.2823928342908621\n",
      "Epoche 2/3\n"
     ]
    },
    {
     "name": "stderr",
     "output_type": "stream",
     "text": [
      "Training: 100%|██████████| 500/500 [07:16<00:00,  1.15it/s]\n"
     ]
    },
    {
     "name": "stdout",
     "output_type": "stream",
     "text": [
      "Durchschnittlicher Trainingsverlust: 0.16129728677030652\n",
      "Epoche 3/3\n"
     ]
    },
    {
     "name": "stderr",
     "output_type": "stream",
     "text": [
      "Training: 100%|██████████| 500/500 [07:15<00:00,  1.15it/s]\n"
     ]
    },
    {
     "name": "stdout",
     "output_type": "stream",
     "text": [
      "Durchschnittlicher Trainingsverlust: 0.08739668479561806\n"
     ]
    },
    {
     "name": "stderr",
     "output_type": "stream",
     "text": [
      "Validierung: 100%|██████████| 125/125 [00:33<00:00,  3.76it/s]\n"
     ]
    }
   ],
   "source": [
    "base_4_10k_samples = run_experiment(df_statisfied_10k,\n",
    "                                    tokenizer,\n",
    "                                    device,\n",
    "                                    text_column='cleaned_review_4',\n",
    "                                    target_column='recommended',\n",
    "                                    batch_size=16,\n",
    "                                    epochs=3,\n",
    "                                    learning_rate=2e-5)"
   ]
  },
  {
   "cell_type": "markdown",
   "metadata": {},
   "source": [
    "## Evaluierung der Experimente mit 10k Daten\n",
    "\n",
    "Wir werden uns nun die Ergbebnisse mit den 10k Daten anschauen."
   ]
  },
  {
   "cell_type": "code",
   "execution_count": 154,
   "metadata": {},
   "outputs": [
    {
     "name": "stdout",
     "output_type": "stream",
     "text": [
      "              precision    recall  f1-score   support\n",
      "\n",
      "           0       0.82      0.81      0.82       442\n",
      "           1       0.95      0.95      0.95      1558\n",
      "\n",
      "    accuracy                           0.92      2000\n",
      "   macro avg       0.89      0.88      0.88      2000\n",
      "weighted avg       0.92      0.92      0.92      2000\n",
      "\n"
     ]
    },
    {
     "data": {
      "image/png": "[encoded data removed]",
      "text/plain": [
       "<Figure size 800x600 with 1 Axes>"
      ]
     },
     "metadata": {},
     "output_type": "display_data"
    }
   ],
   "source": [
    "evaluate_classification_results(base_1_10k_samples[\"results_df\"], title=\"Base 1 (Nur Reviews) - 10k Samples\")"
   ]
  },
  {
   "cell_type": "code",
   "execution_count": 155,
   "metadata": {},
   "outputs": [
    {
     "name": "stdout",
     "output_type": "stream",
     "text": [
      "              precision    recall  f1-score   support\n",
      "\n",
      "           0       0.86      0.80      0.83       442\n",
      "           1       0.95      0.96      0.95      1558\n",
      "\n",
      "    accuracy                           0.93      2000\n",
      "   macro avg       0.90      0.88      0.89      2000\n",
      "weighted avg       0.93      0.93      0.93      2000\n",
      "\n"
     ]
    },
    {
     "data": {
      "image/png": "[encoded data removed]",
      "text/plain": [
       "<Figure size 800x600 with 1 Axes>"
      ]
     },
     "metadata": {},
     "output_type": "display_data"
    }
   ],
   "source": [
    "evaluate_classification_results(base_2_10k_samples[\"results_df\"], title=\"Base 2 (Review und Spiel Informationen) - 10k Samples\")"
   ]
  },
  {
   "cell_type": "code",
   "execution_count": 156,
   "metadata": {},
   "outputs": [
    {
     "name": "stdout",
     "output_type": "stream",
     "text": [
      "              precision    recall  f1-score   support\n",
      "\n",
      "           0       0.79      0.82      0.80       442\n",
      "           1       0.95      0.94      0.94      1558\n",
      "\n",
      "    accuracy                           0.91      2000\n",
      "   macro avg       0.87      0.88      0.87      2000\n",
      "weighted avg       0.91      0.91      0.91      2000\n",
      "\n"
     ]
    },
    {
     "data": {
      "image/png": "[encoded data removed]",
      "text/plain": [
       "<Figure size 800x600 with 1 Axes>"
      ]
     },
     "metadata": {},
     "output_type": "display_data"
    }
   ],
   "source": [
    "evaluate_classification_results(base_3_10k_samples[\"results_df\"], title=\"Base 3 (Review und Top Emotionen) - 10k Samples\")"
   ]
  },
  {
   "cell_type": "code",
   "execution_count": 157,
   "metadata": {},
   "outputs": [
    {
     "name": "stdout",
     "output_type": "stream",
     "text": [
      "              precision    recall  f1-score   support\n",
      "\n",
      "           0       0.89      0.72      0.80       442\n",
      "           1       0.93      0.98      0.95      1558\n",
      "\n",
      "    accuracy                           0.92      2000\n",
      "   macro avg       0.91      0.85      0.87      2000\n",
      "weighted avg       0.92      0.92      0.92      2000\n",
      "\n"
     ]
    },
    {
     "data": {
      "image/png": "[encoded data removed]",
      "text/plain": [
       "<Figure size 800x600 with 1 Axes>"
      ]
     },
     "metadata": {},
     "output_type": "display_data"
    }
   ],
   "source": [
    "evaluate_classification_results(base_4_10k_samples[\"results_df\"], title=\"Base 4 (Review, Spielinfo, Emotionen - 10k Samples\")"
   ]
  },
  {
   "cell_type": "markdown",
   "metadata": {},
   "source": [
    "### Ergebnisse\n",
    "\n",
    "- **Base 1 (Nur Reviews) - 10k Samples**:\n",
    "    - Das Modell zeigte eine hohe Genauigkeit, jedoch waren die Recall- und Precision-Werte niedriger im Vergleich zu den anderen Experimenten.\n",
    "    - Die negativen Reviews wurden schlechter erkannt, was auf die Imbalance der Klassen zurückzuführen ist.\n",
    "\n",
    "- **Base 2 (Review und Spiel Informationen) - 10k Samples**:\n",
    "    - Die Hinzufügung von Genre, Publisher und Spielname führte zu einer leichten Verbesserung der Recall- und Precision-Werte.\n",
    "    - Die Genauigkeit blieb ähnlich wie bei den reinen Reviews.\n",
    "\n",
    "- **Base 3 (Review und Top Emotionen) - 10k Samples**:\n",
    "    - Die Integration von Emotionen führte zu einer signifikanten Verbesserung der Recall- und Precision-Werte.\n",
    "    - Das Modell konnte besser zwischen den Klassen unterscheiden.\n",
    "\n",
    "- **Base 4 (Review, Spielinfo, Emotionen - 10k Samples)**:\n",
    "    - Die Kombination aller zusätzlichen Informationen führte zu den besten Ergebnissen.\n",
    "    - Sowohl die Genauigkeit als auch die Recall- und Precision-Werte waren höher als in den anderen Experimenten.\n",
    "\n",
    "### Fazit\n",
    "\n",
    "Die Experimente zeigen, dass die Einbeziehung von zusätzlichen Informationen wie Genre, Publisher und Emotionen die Leistung des DistilBERT-Modells erheblich verbessert. Besonders die Integration von Emotionen führte zu einer besseren Unterscheidung zwischen den Klassen. **Die besten Ergebnisse wurden erzielt, wenn alle zusätzlichen Informationen kombiniert wurden.**\n"
   ]
  },
  {
   "cell_type": "markdown",
   "metadata": {},
   "source": [
    "# Trainig des DistilBERT Modells für Steam Reviews\n",
    "\n",
    "Durch die Evaluierungen der 1k und 10k anläufen, sind wir zum schluss gekommen, dass die besten Ergebnisse erzielt werden, wenn alle zusätzlichen Informationen kombiniert werden.\n",
    "\n",
    "Somit laufen wir nun das Training für alle Daten durch indem wir die informationen kombinieren."
   ]
  },
  {
   "cell_type": "code",
   "execution_count": null,
   "metadata": {},
   "outputs": [],
   "source": [
    "df_all = pd.read_parquet(\"data/processed_data/steam_reviews_with_emotions_full.parquet\")"
   ]
  },
  {
   "cell_type": "code",
   "execution_count": null,
   "metadata": {},
   "outputs": [],
   "source": [
    "df_all_with_emotions = cleaned_review_4_generator(df=df_all, emotion_columns=emotion_columns)"
   ]
  },
  {
   "cell_type": "code",
   "execution_count": null,
   "metadata": {},
   "outputs": [],
   "source": [
    "base_4_all_samples = run_experiment(df_statisfied_10k,\n",
    "                                    tokenizer,\n",
    "                                    device,\n",
    "                                    text_column='cleaned_review_4',\n",
    "                                    target_column='recommended',\n",
    "                                    batch_size=16,\n",
    "                                    epochs=3,\n",
    "                                    learning_rate=2e-5,\n",
    "                                    model_save_path=\"models/distilbert_final_model.pt\")"
   ]
  },
  {
   "cell_type": "code",
   "execution_count": null,
   "metadata": {},
   "outputs": [],
   "source": [
    "base_4_all_samples[\"results_df\"].to_parquet(\"data/processed_data/steam_reviews_with_emotions_full_predictions.parquet\")"
   ]
  },
  {
   "cell_type": "code",
   "execution_count": null,
   "metadata": {},
   "outputs": [],
   "source": [
    "base_4_all_samples[\"results_df\"].head(5)"
   ]
  },
  {
   "cell_type": "code",
   "execution_count": null,
   "metadata": {},
   "outputs": [],
   "source": [
    "evaluate_classification_results(base_4_10k_samples[\"results_df\"], title=\"Finales Modell (Review, Spielinfo, Emotionen \")"
   ]
  },
  {
   "cell_type": "markdown",
   "metadata": {},
   "source": [
    "### Einlesen von Modellen!"
   ]
  },
  {
   "cell_type": "markdown",
   "metadata": {},
   "source": [
    "HIER NOCH EINE FUNCTION WIE MAN FERTIG TRAINIERTE MODELLE EINLESEN KANN!"
   ]
  },
  {
   "cell_type": "code",
   "execution_count": null,
   "metadata": {},
   "outputs": [],
   "source": [
    "# Lade das gespeicherte Modell\n",
    "checkpoint = torch.load(\"distilbert_model_final.pt\")\n",
    "\n",
    "# Lade die Gewichte ins Modell\n",
    "model.load_state_dict(checkpoint['model_state_dict'])\n",
    "\n",
    "# Optional: Lade den Optimizer-Zustand, falls du das Training fortsetzen möchtest\n",
    "optimizer.load_state_dict(checkpoint['optimizer_state_dict'])\n",
    "\n",
    "# Setze das Modell in den Evaluationsmodus (bei Inferenz)\n",
    "model.eval()\n",
    "\n",
    "print(\"Modell erfolgreich geladen und einsatzbereit.\")"
   ]
  }
 ],
 "metadata": {
  "kernelspec": {
   "display_name": "private_env",
   "language": "python",
   "name": "python3"
  },
  "language_info": {
   "codemirror_mode": {
    "name": "ipython",
    "version": 3
   },
   "file_extension": ".py",
   "mimetype": "text/x-python",
   "name": "python",
   "nbconvert_exporter": "python",
   "pygments_lexer": "ipython3",
   "version": "3.11.8"
  }
 },
 "nbformat": 4,
 "nbformat_minor": 2
}
